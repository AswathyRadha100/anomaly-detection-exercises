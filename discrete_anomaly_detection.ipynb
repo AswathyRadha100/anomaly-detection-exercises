{
 "cells": [
  {
   "cell_type": "markdown",
   "id": "91f4a87d",
   "metadata": {},
   "source": [
    "<div style=\"background-color: lightblue; padding: 60px;\">\n",
    "    <h1><b>Discrete Probabilistic Methods</b></h1>\n",
    "</div>\n"
   ]
  },
  {
   "cell_type": "markdown",
   "id": "d5c11f84",
   "metadata": {},
   "source": [
    "Anomaly Detection: Identification of items, events or observations which is significantly different from the remaining data.\n",
    "\n",
    "What is it?\n",
    "Focusing on how to identify anomalies in our discrete variables\n",
    "\n",
    "Why do we care?\n",
    "Allows us to find items, events, or observations which are significantly different from the remaining data and determine whether or not they belong\n",
    "\n",
    "How do we do it?\n",
    "count: the number of times each unique value appears in the dataset\n",
    "frequencies: the number of times each unique value appears in the dataset as a percentage of the total\n",
    "conditional probability: the likelihood of an event or outcome occurring, based on the occurrence of a previous event or outcome\n"
   ]
  },
  {
   "cell_type": "markdown",
   "id": "a7e8e019",
   "metadata": {},
   "source": [
    "Examples of Anomaly Detection- Discrete Probabilistic Methods:\n",
    "\n",
    "count: How many times we see an ip address in the dataset\n",
    "frequency: What is probability of ip address showing up in the dataset\n",
    "conditional probability: Given an ip address, what is prob of a particular status (e.g authentication failure)\n",
    "Frequency or counting based\n",
    "\n",
    "How many time a value of variable (e.g. ip address) shows up\n",
    "More frequent - less likely to be an anomaly\n",
    "Less frequent - more likely to be an anomaly\n",
    "Calculate probability\n",
    "Conditional probability\n",
    " \n"
   ]
  },
  {
   "cell_type": "markdown",
   "id": "eec30043",
   "metadata": {},
   "source": [
    "## Scenario"
   ]
  },
  {
   "cell_type": "markdown",
   "id": "48577a10",
   "metadata": {},
   "source": [
    "Use Codeup's access logs to determine if anyone is accessing the curriculum when they shouldn't be. This data is from codeup's first data science cohort, Ada. Each row is one request to the server."
   ]
  },
  {
   "cell_type": "code",
   "execution_count": 118,
   "id": "b737c6a3",
   "metadata": {},
   "outputs": [],
   "source": [
    "# Let's grab some data:\n",
    "import matplotlib.pyplot as plt\n",
    "import seaborn as sns\n",
    "\n",
    "import numpy as np\n",
    "import pandas as pd\n",
    "\n",
    "#math imports\n",
    "import math\n",
    "from sklearn import metrics\n",
    "\n",
    "#from sklearn import metrics\n",
    "import env\n",
    "\n",
    "\n",
    "#remove warnings\n",
    "import warnings\n",
    "warnings.filterwarnings(\"ignore\")"
   ]
  },
  {
   "cell_type": "markdown",
   "id": "508d6265",
   "metadata": {},
   "source": [
    "## Wrangle"
   ]
  },
  {
   "cell_type": "markdown",
   "id": "77f12ffe",
   "metadata": {},
   "source": [
    "The data comes from the webserver logs of the API that we used in the timeseries module. Each row is one request to the server\n",
    "\n"
   ]
  },
  {
   "cell_type": "markdown",
   "id": "dcaaf84a",
   "metadata": {},
   "source": [
    "## Acquire"
   ]
  },
  {
   "cell_type": "code",
   "execution_count": 119,
   "id": "754bb018",
   "metadata": {},
   "outputs": [],
   "source": [
    "#create SQL connection to logs\n",
    "url = f'mysql+pymysql://{env.user}:{env.password}@{env.host}/logs'\n",
    "\n",
    "#SQL query\n",
    "query = 'SELECT * FROM api_access'"
   ]
  },
  {
   "cell_type": "code",
   "execution_count": 120,
   "id": "893a005e",
   "metadata": {},
   "outputs": [],
   "source": [
    "#read in the df\n",
    "df = pd.read_sql(query, url)"
   ]
  },
  {
   "cell_type": "code",
   "execution_count": 121,
   "id": "f7a8fc58",
   "metadata": {},
   "outputs": [
    {
     "data": {
      "text/html": [
       "<div>\n",
       "<style scoped>\n",
       "    .dataframe tbody tr th:only-of-type {\n",
       "        vertical-align: middle;\n",
       "    }\n",
       "\n",
       "    .dataframe tbody tr th {\n",
       "        vertical-align: top;\n",
       "    }\n",
       "\n",
       "    .dataframe thead th {\n",
       "        text-align: right;\n",
       "    }\n",
       "</style>\n",
       "<table border=\"1\" class=\"dataframe\">\n",
       "  <thead>\n",
       "    <tr style=\"text-align: right;\">\n",
       "      <th></th>\n",
       "      <th>entry</th>\n",
       "    </tr>\n",
       "  </thead>\n",
       "  <tbody>\n",
       "    <tr>\n",
       "      <th>13095</th>\n",
       "      <td>72.181.113.170 - - [17/Apr/2019:03:42:30 +0000] \"GET /api/v1/sales?page=126 HTTP/1.1\" ...</td>\n",
       "    </tr>\n",
       "    <tr>\n",
       "      <th>4682</th>\n",
       "      <td>97.105.19.58 - - [16/Apr/2019:20:37:08 +0000] \"GET /api/v1/sales?page=8 HTTP/1.1\" 200 ...</td>\n",
       "    </tr>\n",
       "    <tr>\n",
       "      <th>905</th>\n",
       "      <td>97.105.19.58 - - [16/Apr/2019:19:47:43 +0000] \"GET /api/v1/sales?page=119 HTTP/1.1\" 20...</td>\n",
       "    </tr>\n",
       "    <tr>\n",
       "      <th>13826</th>\n",
       "      <td>173.173.113.51 - - [17/Apr/2019:05:17:25 +0000] \"GET /api/v1/sales?page=128 HTTP/1.1\" ...</td>\n",
       "    </tr>\n",
       "    <tr>\n",
       "      <th>5276</th>\n",
       "      <td>97.105.19.58 - - [16/Apr/2019:20:42:55 +0000] \"GET /api/v1/sales?page=96 HTTP/1.1\" 200...</td>\n",
       "    </tr>\n",
       "  </tbody>\n",
       "</table>\n",
       "</div>"
      ],
      "text/plain": [
       "                                                                                           entry\n",
       "13095  72.181.113.170 - - [17/Apr/2019:03:42:30 +0000] \"GET /api/v1/sales?page=126 HTTP/1.1\" ...\n",
       "4682   97.105.19.58 - - [16/Apr/2019:20:37:08 +0000] \"GET /api/v1/sales?page=8 HTTP/1.1\" 200 ...\n",
       "905    97.105.19.58 - - [16/Apr/2019:19:47:43 +0000] \"GET /api/v1/sales?page=119 HTTP/1.1\" 20...\n",
       "13826  173.173.113.51 - - [17/Apr/2019:05:17:25 +0000] \"GET /api/v1/sales?page=128 HTTP/1.1\" ...\n",
       "5276   97.105.19.58 - - [16/Apr/2019:20:42:55 +0000] \"GET /api/v1/sales?page=96 HTTP/1.1\" 200..."
      ]
     },
     "execution_count": 121,
     "metadata": {},
     "output_type": "execute_result"
    }
   ],
   "source": [
    "#take a look at the data\n",
    "df.sample(5)"
   ]
  },
  {
   "cell_type": "code",
   "execution_count": 122,
   "id": "d968623e",
   "metadata": {},
   "outputs": [
    {
     "name": "stdout",
     "output_type": "stream",
     "text": [
      "<class 'pandas.core.frame.DataFrame'>\n",
      "RangeIndex: 13974 entries, 0 to 13973\n",
      "Data columns (total 1 columns):\n",
      " #   Column  Non-Null Count  Dtype \n",
      "---  ------  --------------  ----- \n",
      " 0   entry   13974 non-null  object\n",
      "dtypes: object(1)\n",
      "memory usage: 109.3+ KB\n"
     ]
    }
   ],
   "source": [
    "#how many columns and datatypes\n",
    "df.info()"
   ]
  },
  {
   "cell_type": "markdown",
   "id": "46371a9c",
   "metadata": {},
   "source": [
    "Takeaway:\n",
    "It looks like we have one column that contains the 'entry' which holds different elements within it.\n",
    "In our preparation steps we will look at what 'entry' holds.We have one column that we will need to parse into multiple elements in separate columns.\n",
    "We have 13,974 entries."
   ]
  },
  {
   "cell_type": "markdown",
   "id": "e970e527",
   "metadata": {},
   "source": [
    "## Parse"
   ]
  },
  {
   "cell_type": "code",
   "execution_count": null,
   "id": "e3b52052",
   "metadata": {},
   "outputs": [],
   "source": [
    "Turn the entry column into separate elements with separate columns"
   ]
  },
  {
   "cell_type": "code",
   "execution_count": 123,
   "id": "08661981",
   "metadata": {},
   "outputs": [],
   "source": [
    "#function to deal with parsing one entry in our log data\n",
    "#this function works on one string\n",
    "def parse_log_entry(entry):\n",
    "    parts = entry.split()\n",
    "    output = {}\n",
    "    output['ip'] = parts[0]\n",
    "    output['timestamp'] = parts[3][1:].replace(':', ' ', 1)\n",
    "    output['request_method'] = parts[5][1:]\n",
    "    output['request_path'] = parts[6]\n",
    "    output['http_version'] = parts[7][:-1]\n",
    "    output['status_code'] = parts[8]\n",
    "    output['size'] = int(parts[9])\n",
    "    output['user_agent'] =parts[11].strip('\"')\n",
    "    return pd.Series(output)"
   ]
  },
  {
   "cell_type": "code",
   "execution_count": 124,
   "id": "9a12ffb0",
   "metadata": {},
   "outputs": [],
   "source": [
    "#apply string function to every element in a series\n",
    "df = df.entry.apply(parse_log_entry)"
   ]
  },
  {
   "cell_type": "code",
   "execution_count": 125,
   "id": "3f0e1e40",
   "metadata": {},
   "outputs": [
    {
     "data": {
      "text/html": [
       "<div>\n",
       "<style scoped>\n",
       "    .dataframe tbody tr th:only-of-type {\n",
       "        vertical-align: middle;\n",
       "    }\n",
       "\n",
       "    .dataframe tbody tr th {\n",
       "        vertical-align: top;\n",
       "    }\n",
       "\n",
       "    .dataframe thead th {\n",
       "        text-align: right;\n",
       "    }\n",
       "</style>\n",
       "<table border=\"1\" class=\"dataframe\">\n",
       "  <thead>\n",
       "    <tr style=\"text-align: right;\">\n",
       "      <th></th>\n",
       "      <th>ip</th>\n",
       "      <th>timestamp</th>\n",
       "      <th>request_method</th>\n",
       "      <th>request_path</th>\n",
       "      <th>http_version</th>\n",
       "      <th>status_code</th>\n",
       "      <th>size</th>\n",
       "      <th>user_agent</th>\n",
       "    </tr>\n",
       "  </thead>\n",
       "  <tbody>\n",
       "    <tr>\n",
       "      <th>0</th>\n",
       "      <td>97.105.19.58</td>\n",
       "      <td>16/Apr/2019 19:34:42</td>\n",
       "      <td>GET</td>\n",
       "      <td>/api/v1/sales?page=81</td>\n",
       "      <td>HTTP/1.1</td>\n",
       "      <td>200</td>\n",
       "      <td>512495</td>\n",
       "      <td>python-requests/2.21.0</td>\n",
       "    </tr>\n",
       "    <tr>\n",
       "      <th>1</th>\n",
       "      <td>97.105.19.58</td>\n",
       "      <td>16/Apr/2019 19:34:42</td>\n",
       "      <td>GET</td>\n",
       "      <td>/api/v1/items</td>\n",
       "      <td>HTTP/1.1</td>\n",
       "      <td>200</td>\n",
       "      <td>3561</td>\n",
       "      <td>python-requests/2.21.0</td>\n",
       "    </tr>\n",
       "    <tr>\n",
       "      <th>2</th>\n",
       "      <td>97.105.19.58</td>\n",
       "      <td>16/Apr/2019 19:34:44</td>\n",
       "      <td>GET</td>\n",
       "      <td>/api/v1/sales?page=82</td>\n",
       "      <td>HTTP/1.1</td>\n",
       "      <td>200</td>\n",
       "      <td>510103</td>\n",
       "      <td>python-requests/2.21.0</td>\n",
       "    </tr>\n",
       "    <tr>\n",
       "      <th>3</th>\n",
       "      <td>97.105.19.58</td>\n",
       "      <td>16/Apr/2019 19:34:46</td>\n",
       "      <td>GET</td>\n",
       "      <td>/api/v1/sales?page=83</td>\n",
       "      <td>HTTP/1.1</td>\n",
       "      <td>200</td>\n",
       "      <td>510003</td>\n",
       "      <td>python-requests/2.21.0</td>\n",
       "    </tr>\n",
       "    <tr>\n",
       "      <th>4</th>\n",
       "      <td>97.105.19.58</td>\n",
       "      <td>16/Apr/2019 19:34:48</td>\n",
       "      <td>GET</td>\n",
       "      <td>/api/v1/sales?page=84</td>\n",
       "      <td>HTTP/1.1</td>\n",
       "      <td>200</td>\n",
       "      <td>511963</td>\n",
       "      <td>python-requests/2.21.0</td>\n",
       "    </tr>\n",
       "    <tr>\n",
       "      <th>...</th>\n",
       "      <td>...</td>\n",
       "      <td>...</td>\n",
       "      <td>...</td>\n",
       "      <td>...</td>\n",
       "      <td>...</td>\n",
       "      <td>...</td>\n",
       "      <td>...</td>\n",
       "      <td>...</td>\n",
       "    </tr>\n",
       "    <tr>\n",
       "      <th>13969</th>\n",
       "      <td>97.105.19.58</td>\n",
       "      <td>17/Apr/2019 12:55:12</td>\n",
       "      <td>GET</td>\n",
       "      <td>/api/v1/sales?page=62</td>\n",
       "      <td>HTTP/1.1</td>\n",
       "      <td>200</td>\n",
       "      <td>511544</td>\n",
       "      <td>python-requests/2.21.0</td>\n",
       "    </tr>\n",
       "    <tr>\n",
       "      <th>13970</th>\n",
       "      <td>97.105.19.58</td>\n",
       "      <td>17/Apr/2019 12:55:12</td>\n",
       "      <td>GET</td>\n",
       "      <td>/api/v1/sales?page=65</td>\n",
       "      <td>HTTP/1.1</td>\n",
       "      <td>200</td>\n",
       "      <td>511201</td>\n",
       "      <td>python-requests/2.21.0</td>\n",
       "    </tr>\n",
       "    <tr>\n",
       "      <th>13971</th>\n",
       "      <td>97.105.19.58</td>\n",
       "      <td>17/Apr/2019 12:55:13</td>\n",
       "      <td>GET</td>\n",
       "      <td>/api/v1/sales?page=73</td>\n",
       "      <td>HTTP/1.1</td>\n",
       "      <td>200</td>\n",
       "      <td>511781</td>\n",
       "      <td>python-requests/2.21.0</td>\n",
       "    </tr>\n",
       "    <tr>\n",
       "      <th>13972</th>\n",
       "      <td>97.105.19.58</td>\n",
       "      <td>17/Apr/2019 12:55:13</td>\n",
       "      <td>GET</td>\n",
       "      <td>/api/v1/sales?page=69</td>\n",
       "      <td>HTTP/1.1</td>\n",
       "      <td>200</td>\n",
       "      <td>510136</td>\n",
       "      <td>python-requests/2.21.0</td>\n",
       "    </tr>\n",
       "    <tr>\n",
       "      <th>13973</th>\n",
       "      <td>97.105.19.58</td>\n",
       "      <td>17/Apr/2019 12:55:14</td>\n",
       "      <td>GET</td>\n",
       "      <td>/api/v1/sales?page=71</td>\n",
       "      <td>HTTP/1.1</td>\n",
       "      <td>200</td>\n",
       "      <td>510166</td>\n",
       "      <td>python-requests/2.21.0</td>\n",
       "    </tr>\n",
       "  </tbody>\n",
       "</table>\n",
       "<p>13974 rows × 8 columns</p>\n",
       "</div>"
      ],
      "text/plain": [
       "                 ip             timestamp request_method  \\\n",
       "0      97.105.19.58  16/Apr/2019 19:34:42            GET   \n",
       "1      97.105.19.58  16/Apr/2019 19:34:42            GET   \n",
       "2      97.105.19.58  16/Apr/2019 19:34:44            GET   \n",
       "3      97.105.19.58  16/Apr/2019 19:34:46            GET   \n",
       "4      97.105.19.58  16/Apr/2019 19:34:48            GET   \n",
       "...             ...                   ...            ...   \n",
       "13969  97.105.19.58  17/Apr/2019 12:55:12            GET   \n",
       "13970  97.105.19.58  17/Apr/2019 12:55:12            GET   \n",
       "13971  97.105.19.58  17/Apr/2019 12:55:13            GET   \n",
       "13972  97.105.19.58  17/Apr/2019 12:55:13            GET   \n",
       "13973  97.105.19.58  17/Apr/2019 12:55:14            GET   \n",
       "\n",
       "                request_path http_version status_code    size  \\\n",
       "0      /api/v1/sales?page=81     HTTP/1.1         200  512495   \n",
       "1              /api/v1/items     HTTP/1.1         200    3561   \n",
       "2      /api/v1/sales?page=82     HTTP/1.1         200  510103   \n",
       "3      /api/v1/sales?page=83     HTTP/1.1         200  510003   \n",
       "4      /api/v1/sales?page=84     HTTP/1.1         200  511963   \n",
       "...                      ...          ...         ...     ...   \n",
       "13969  /api/v1/sales?page=62     HTTP/1.1         200  511544   \n",
       "13970  /api/v1/sales?page=65     HTTP/1.1         200  511201   \n",
       "13971  /api/v1/sales?page=73     HTTP/1.1         200  511781   \n",
       "13972  /api/v1/sales?page=69     HTTP/1.1         200  510136   \n",
       "13973  /api/v1/sales?page=71     HTTP/1.1         200  510166   \n",
       "\n",
       "                   user_agent  \n",
       "0      python-requests/2.21.0  \n",
       "1      python-requests/2.21.0  \n",
       "2      python-requests/2.21.0  \n",
       "3      python-requests/2.21.0  \n",
       "4      python-requests/2.21.0  \n",
       "...                       ...  \n",
       "13969  python-requests/2.21.0  \n",
       "13970  python-requests/2.21.0  \n",
       "13971  python-requests/2.21.0  \n",
       "13972  python-requests/2.21.0  \n",
       "13973  python-requests/2.21.0  \n",
       "\n",
       "[13974 rows x 8 columns]"
      ]
     },
     "execution_count": 125,
     "metadata": {},
     "output_type": "execute_result"
    }
   ],
   "source": [
    "#take a look at our dataframe with \n",
    "df"
   ]
  },
  {
   "cell_type": "code",
   "execution_count": 126,
   "id": "e01311c0",
   "metadata": {},
   "outputs": [
    {
     "name": "stdout",
     "output_type": "stream",
     "text": [
      "<class 'pandas.core.frame.DataFrame'>\n",
      "RangeIndex: 13974 entries, 0 to 13973\n",
      "Data columns (total 8 columns):\n",
      " #   Column          Non-Null Count  Dtype \n",
      "---  ------          --------------  ----- \n",
      " 0   ip              13974 non-null  object\n",
      " 1   timestamp       13974 non-null  object\n",
      " 2   request_method  13974 non-null  object\n",
      " 3   request_path    13974 non-null  object\n",
      " 4   http_version    13974 non-null  object\n",
      " 5   status_code     13974 non-null  object\n",
      " 6   size            13974 non-null  int64 \n",
      " 7   user_agent      13974 non-null  object\n",
      "dtypes: int64(1), object(7)\n",
      "memory usage: 873.5+ KB\n"
     ]
    }
   ],
   "source": [
    "df.info()"
   ]
  },
  {
   "cell_type": "code",
   "execution_count": 127,
   "id": "abf127c9",
   "metadata": {},
   "outputs": [
    {
     "data": {
      "text/html": [
       "<div>\n",
       "<style scoped>\n",
       "    .dataframe tbody tr th:only-of-type {\n",
       "        vertical-align: middle;\n",
       "    }\n",
       "\n",
       "    .dataframe tbody tr th {\n",
       "        vertical-align: top;\n",
       "    }\n",
       "\n",
       "    .dataframe thead th {\n",
       "        text-align: right;\n",
       "    }\n",
       "</style>\n",
       "<table border=\"1\" class=\"dataframe\">\n",
       "  <thead>\n",
       "    <tr style=\"text-align: right;\">\n",
       "      <th></th>\n",
       "      <th>ip</th>\n",
       "      <th>timestamp</th>\n",
       "      <th>request_method</th>\n",
       "      <th>request_path</th>\n",
       "      <th>http_version</th>\n",
       "      <th>status_code</th>\n",
       "      <th>size</th>\n",
       "      <th>user_agent</th>\n",
       "    </tr>\n",
       "  </thead>\n",
       "  <tbody>\n",
       "    <tr>\n",
       "      <th>0</th>\n",
       "      <td>97.105.19.58</td>\n",
       "      <td>16/Apr/2019 19:34:42</td>\n",
       "      <td>GET</td>\n",
       "      <td>/api/v1/sales?page=81</td>\n",
       "      <td>HTTP/1.1</td>\n",
       "      <td>200</td>\n",
       "      <td>512495</td>\n",
       "      <td>python-requests/2.21.0</td>\n",
       "    </tr>\n",
       "    <tr>\n",
       "      <th>1</th>\n",
       "      <td>97.105.19.58</td>\n",
       "      <td>16/Apr/2019 19:34:42</td>\n",
       "      <td>GET</td>\n",
       "      <td>/api/v1/items</td>\n",
       "      <td>HTTP/1.1</td>\n",
       "      <td>200</td>\n",
       "      <td>3561</td>\n",
       "      <td>python-requests/2.21.0</td>\n",
       "    </tr>\n",
       "    <tr>\n",
       "      <th>2</th>\n",
       "      <td>97.105.19.58</td>\n",
       "      <td>16/Apr/2019 19:34:44</td>\n",
       "      <td>GET</td>\n",
       "      <td>/api/v1/sales?page=82</td>\n",
       "      <td>HTTP/1.1</td>\n",
       "      <td>200</td>\n",
       "      <td>510103</td>\n",
       "      <td>python-requests/2.21.0</td>\n",
       "    </tr>\n",
       "    <tr>\n",
       "      <th>3</th>\n",
       "      <td>97.105.19.58</td>\n",
       "      <td>16/Apr/2019 19:34:46</td>\n",
       "      <td>GET</td>\n",
       "      <td>/api/v1/sales?page=83</td>\n",
       "      <td>HTTP/1.1</td>\n",
       "      <td>200</td>\n",
       "      <td>510003</td>\n",
       "      <td>python-requests/2.21.0</td>\n",
       "    </tr>\n",
       "    <tr>\n",
       "      <th>4</th>\n",
       "      <td>97.105.19.58</td>\n",
       "      <td>16/Apr/2019 19:34:48</td>\n",
       "      <td>GET</td>\n",
       "      <td>/api/v1/sales?page=84</td>\n",
       "      <td>HTTP/1.1</td>\n",
       "      <td>200</td>\n",
       "      <td>511963</td>\n",
       "      <td>python-requests/2.21.0</td>\n",
       "    </tr>\n",
       "  </tbody>\n",
       "</table>\n",
       "</div>"
      ],
      "text/plain": [
       "             ip             timestamp request_method           request_path  \\\n",
       "0  97.105.19.58  16/Apr/2019 19:34:42            GET  /api/v1/sales?page=81   \n",
       "1  97.105.19.58  16/Apr/2019 19:34:42            GET          /api/v1/items   \n",
       "2  97.105.19.58  16/Apr/2019 19:34:44            GET  /api/v1/sales?page=82   \n",
       "3  97.105.19.58  16/Apr/2019 19:34:46            GET  /api/v1/sales?page=83   \n",
       "4  97.105.19.58  16/Apr/2019 19:34:48            GET  /api/v1/sales?page=84   \n",
       "\n",
       "  http_version status_code    size              user_agent  \n",
       "0     HTTP/1.1         200  512495  python-requests/2.21.0  \n",
       "1     HTTP/1.1         200    3561  python-requests/2.21.0  \n",
       "2     HTTP/1.1         200  510103  python-requests/2.21.0  \n",
       "3     HTTP/1.1         200  510003  python-requests/2.21.0  \n",
       "4     HTTP/1.1         200  511963  python-requests/2.21.0  "
      ]
     },
     "execution_count": 127,
     "metadata": {},
     "output_type": "execute_result"
    }
   ],
   "source": [
    "df.head()"
   ]
  },
  {
   "cell_type": "markdown",
   "id": "41d47f01",
   "metadata": {},
   "source": [
    "We now have 8 columns containing each element that was in the original 'entry' column.\n"
   ]
  },
  {
   "cell_type": "markdown",
   "id": "a9ce022e",
   "metadata": {},
   "source": [
    "## Add Anomalies"
   ]
  },
  {
   "cell_type": "code",
   "execution_count": null,
   "id": "710060f2",
   "metadata": {},
   "outputs": [],
   "source": [
    "We will add four anomalous entries to our dataframe"
   ]
  },
  {
   "cell_type": "code",
   "execution_count": 128,
   "id": "9599c3aa",
   "metadata": {},
   "outputs": [],
   "source": [
    "#create DataFrame with anomalies in it\n",
    "new = pd.DataFrame([\n",
    "    [\"95.31.18.119\", \"21/Apr/2019 10:02:41\", \"GET\", \"/api/v1/items/\", \"HTTP/1.1\", \n",
    "     '200', 1153005, \"python-requests/2.21.0\"],\n",
    "    [\"95.31.16.121\", \"17/Apr/2019 19:36:41\", \"GET\", \"/api/v1/sales?page=79/\", \"HTTP/1.1\", \n",
    "     '301', 1005, \"python-requests/2.21.0\"],\n",
    "    [\"97.105.15.120\", \"18/Apr/2019 19:42:41\", \"GET\", \"/api/v1/sales?page=79/\", \"HTTP/1.1\", \n",
    "     '301', 2560, \"python-requests/2.21.0\"],\n",
    "    [\"97.105.19.58\", \"19/Apr/2019 19:42:41\", \"GET\", \"/api/v1/sales?page=79/\", \"HTTP/1.1\", \n",
    "     '200', 2056327, \"python-requests/2.21.0\"],\n",
    "], columns=df.columns)\n",
    "\n",
    "#join the original dataframe and anomalous dataframes together\n",
    "df = pd.concat([df,new])"
   ]
  },
  {
   "cell_type": "code",
   "execution_count": 192,
   "id": "d71e4bc2",
   "metadata": {},
   "outputs": [],
   "source": [
    "#create the column for megabite size\n",
    "#divide by 1024 twice\n",
    "df['size_mb'] = df['size'] / 1024 / 1024"
   ]
  },
  {
   "cell_type": "code",
   "execution_count": 193,
   "id": "2d0759b3",
   "metadata": {},
   "outputs": [
    {
     "data": {
      "text/html": [
       "<div>\n",
       "<style scoped>\n",
       "    .dataframe tbody tr th:only-of-type {\n",
       "        vertical-align: middle;\n",
       "    }\n",
       "\n",
       "    .dataframe tbody tr th {\n",
       "        vertical-align: top;\n",
       "    }\n",
       "\n",
       "    .dataframe thead th {\n",
       "        text-align: right;\n",
       "    }\n",
       "</style>\n",
       "<table border=\"1\" class=\"dataframe\">\n",
       "  <thead>\n",
       "    <tr style=\"text-align: right;\">\n",
       "      <th></th>\n",
       "      <th>ip</th>\n",
       "      <th>timestamp</th>\n",
       "      <th>request_method</th>\n",
       "      <th>request_path</th>\n",
       "      <th>http_version</th>\n",
       "      <th>status_code</th>\n",
       "      <th>size</th>\n",
       "      <th>user_agent</th>\n",
       "      <th>size_mb</th>\n",
       "    </tr>\n",
       "  </thead>\n",
       "  <tbody>\n",
       "    <tr>\n",
       "      <th>11804</th>\n",
       "      <td>97.105.19.58</td>\n",
       "      <td>16/Apr/2019 22:54:25</td>\n",
       "      <td>GET</td>\n",
       "      <td>/api/v1/sales?page=43</td>\n",
       "      <td>HTTP/1.1</td>\n",
       "      <td>200</td>\n",
       "      <td>510448</td>\n",
       "      <td>python-requests/2.21.0</td>\n",
       "      <td>0.486801</td>\n",
       "    </tr>\n",
       "    <tr>\n",
       "      <th>4237</th>\n",
       "      <td>97.105.19.58</td>\n",
       "      <td>16/Apr/2019 20:28:42</td>\n",
       "      <td>GET</td>\n",
       "      <td>/api/v1/sales?page=2</td>\n",
       "      <td>HTTP/1.1</td>\n",
       "      <td>200</td>\n",
       "      <td>494819</td>\n",
       "      <td>python-requests/2.21.0</td>\n",
       "      <td>0.471896</td>\n",
       "    </tr>\n",
       "    <tr>\n",
       "      <th>8566</th>\n",
       "      <td>97.105.19.58</td>\n",
       "      <td>16/Apr/2019 21:36:31</td>\n",
       "      <td>GET</td>\n",
       "      <td>/api/v1/sales?page=3</td>\n",
       "      <td>HTTP/1.1</td>\n",
       "      <td>200</td>\n",
       "      <td>499787</td>\n",
       "      <td>python-requests/2.21.0</td>\n",
       "      <td>0.476634</td>\n",
       "    </tr>\n",
       "    <tr>\n",
       "      <th>13149</th>\n",
       "      <td>173.173.113.51</td>\n",
       "      <td>17/Apr/2019 03:45:04</td>\n",
       "      <td>GET</td>\n",
       "      <td>/api/v1/sales?page=94</td>\n",
       "      <td>HTTP/1.1</td>\n",
       "      <td>200</td>\n",
       "      <td>510138</td>\n",
       "      <td>python-requests/2.21.0</td>\n",
       "      <td>0.486506</td>\n",
       "    </tr>\n",
       "    <tr>\n",
       "      <th>11736</th>\n",
       "      <td>97.105.19.58</td>\n",
       "      <td>16/Apr/2019 22:51:37</td>\n",
       "      <td>GET</td>\n",
       "      <td>/api/v1/sales?page=158</td>\n",
       "      <td>HTTP/1.1</td>\n",
       "      <td>200</td>\n",
       "      <td>510316</td>\n",
       "      <td>python-requests/2.21.0</td>\n",
       "      <td>0.486675</td>\n",
       "    </tr>\n",
       "  </tbody>\n",
       "</table>\n",
       "</div>"
      ],
      "text/plain": [
       "                   ip             timestamp request_method  \\\n",
       "11804    97.105.19.58  16/Apr/2019 22:54:25            GET   \n",
       "4237     97.105.19.58  16/Apr/2019 20:28:42            GET   \n",
       "8566     97.105.19.58  16/Apr/2019 21:36:31            GET   \n",
       "13149  173.173.113.51  17/Apr/2019 03:45:04            GET   \n",
       "11736    97.105.19.58  16/Apr/2019 22:51:37            GET   \n",
       "\n",
       "                 request_path http_version status_code    size  \\\n",
       "11804   /api/v1/sales?page=43     HTTP/1.1         200  510448   \n",
       "4237     /api/v1/sales?page=2     HTTP/1.1         200  494819   \n",
       "8566     /api/v1/sales?page=3     HTTP/1.1         200  499787   \n",
       "13149   /api/v1/sales?page=94     HTTP/1.1         200  510138   \n",
       "11736  /api/v1/sales?page=158     HTTP/1.1         200  510316   \n",
       "\n",
       "                   user_agent   size_mb  \n",
       "11804  python-requests/2.21.0  0.486801  \n",
       "4237   python-requests/2.21.0  0.471896  \n",
       "8566   python-requests/2.21.0  0.476634  \n",
       "13149  python-requests/2.21.0  0.486506  \n",
       "11736  python-requests/2.21.0  0.486675  "
      ]
     },
     "execution_count": 193,
     "metadata": {},
     "output_type": "execute_result"
    }
   ],
   "source": [
    "#take a look at the data\n",
    "df.sample(5)"
   ]
  },
  {
   "cell_type": "code",
   "execution_count": 194,
   "id": "4cc14d04",
   "metadata": {},
   "outputs": [
    {
     "name": "stdout",
     "output_type": "stream",
     "text": [
      "<class 'pandas.core.frame.DataFrame'>\n",
      "Index: 13978 entries, 0 to 3\n",
      "Data columns (total 9 columns):\n",
      " #   Column          Non-Null Count  Dtype  \n",
      "---  ------          --------------  -----  \n",
      " 0   ip              13978 non-null  object \n",
      " 1   timestamp       13978 non-null  object \n",
      " 2   request_method  13978 non-null  object \n",
      " 3   request_path    13978 non-null  object \n",
      " 4   http_version    13978 non-null  object \n",
      " 5   status_code     13978 non-null  object \n",
      " 6   size            13978 non-null  int64  \n",
      " 7   user_agent      13978 non-null  object \n",
      " 8   size_mb         13978 non-null  float64\n",
      "dtypes: float64(1), int64(1), object(7)\n",
      "memory usage: 1.1+ MB\n"
     ]
    }
   ],
   "source": [
    "#take a look at our observations\n",
    "df.info()"
   ]
  },
  {
   "cell_type": "code",
   "execution_count": null,
   "id": "aa641f62",
   "metadata": {},
   "outputs": [],
   "source": [
    "Takeaway:\n",
    "We now have four additional observations\n",
    "All of our data from the 'entry' column has been parsed\n"
   ]
  },
  {
   "cell_type": "markdown",
   "id": "daaab08d",
   "metadata": {},
   "source": [
    "# Detecting Anomalies in Discrete Variables"
   ]
  },
  {
   "cell_type": "markdown",
   "id": "e333e7f4",
   "metadata": {},
   "source": [
    "## request_path"
   ]
  },
  {
   "cell_type": "code",
   "execution_count": 145,
   "id": "1bc0b2e9",
   "metadata": {},
   "outputs": [
    {
     "data": {
      "text/plain": [
       "request_path\n",
       "/api/v1/sales?page=2               709\n",
       "/api/v1/items                      464\n",
       "/api/v1/items?page=2               291\n",
       "/api/v1/items?page=3               219\n",
       "/api/v1/stores                     162\n",
       "                                  ... \n",
       "/api/v1                              1\n",
       "/api/v1//api/v1/items/next_page      1\n",
       "/api/v1//api/v1/items                1\n",
       "/api/v1/items?page=0                 1\n",
       "/api/V1/HiZach!                      1\n",
       "Name: count, Length: 220, dtype: int64"
      ]
     },
     "execution_count": 145,
     "metadata": {},
     "output_type": "execute_result"
    }
   ],
   "source": [
    "#get counts for each request path\n",
    "df.request_path.value_counts(dropna=False)"
   ]
  },
  {
   "cell_type": "code",
   "execution_count": 146,
   "id": "5518d4d2",
   "metadata": {},
   "outputs": [
    {
     "data": {
      "text/plain": [
       "220"
      ]
     },
     "execution_count": 146,
     "metadata": {},
     "output_type": "execute_result"
    }
   ],
   "source": [
    "#check how many unique request_path we have\n",
    "df.request_path.nunique()"
   ]
  },
  {
   "cell_type": "code",
   "execution_count": 155,
   "id": "e553f419",
   "metadata": {},
   "outputs": [],
   "source": [
    "#create a new df with values of each unique request method\n",
    "request_path_df = pd.DataFrame(df.request_path.value_counts(dropna=False)).reset_index().\\\n",
    "                rename(columns ={'index': 'request_path', 'count': 'path_count'})"
   ]
  },
  {
   "cell_type": "code",
   "execution_count": 156,
   "id": "e3e3898e",
   "metadata": {},
   "outputs": [
    {
     "data": {
      "text/html": [
       "<div>\n",
       "<style scoped>\n",
       "    .dataframe tbody tr th:only-of-type {\n",
       "        vertical-align: middle;\n",
       "    }\n",
       "\n",
       "    .dataframe tbody tr th {\n",
       "        vertical-align: top;\n",
       "    }\n",
       "\n",
       "    .dataframe thead th {\n",
       "        text-align: right;\n",
       "    }\n",
       "</style>\n",
       "<table border=\"1\" class=\"dataframe\">\n",
       "  <thead>\n",
       "    <tr style=\"text-align: right;\">\n",
       "      <th></th>\n",
       "      <th>request_path</th>\n",
       "      <th>path_count</th>\n",
       "    </tr>\n",
       "  </thead>\n",
       "  <tbody>\n",
       "    <tr>\n",
       "      <th>0</th>\n",
       "      <td>/api/v1/sales?page=2</td>\n",
       "      <td>709</td>\n",
       "    </tr>\n",
       "    <tr>\n",
       "      <th>1</th>\n",
       "      <td>/api/v1/items</td>\n",
       "      <td>464</td>\n",
       "    </tr>\n",
       "    <tr>\n",
       "      <th>2</th>\n",
       "      <td>/api/v1/items?page=2</td>\n",
       "      <td>291</td>\n",
       "    </tr>\n",
       "    <tr>\n",
       "      <th>3</th>\n",
       "      <td>/api/v1/items?page=3</td>\n",
       "      <td>219</td>\n",
       "    </tr>\n",
       "    <tr>\n",
       "      <th>4</th>\n",
       "      <td>/api/v1/stores</td>\n",
       "      <td>162</td>\n",
       "    </tr>\n",
       "  </tbody>\n",
       "</table>\n",
       "</div>"
      ],
      "text/plain": [
       "           request_path  path_count\n",
       "0  /api/v1/sales?page=2         709\n",
       "1         /api/v1/items         464\n",
       "2  /api/v1/items?page=2         291\n",
       "3  /api/v1/items?page=3         219\n",
       "4        /api/v1/stores         162"
      ]
     },
     "execution_count": 156,
     "metadata": {},
     "output_type": "execute_result"
    }
   ],
   "source": [
    "#take a look at the new df\n",
    "request_path_df.head()"
   ]
  },
  {
   "cell_type": "code",
   "execution_count": 149,
   "id": "4e6f59af",
   "metadata": {},
   "outputs": [
    {
     "data": {
      "text/plain": [
       "request_path\n",
       "/api/v1/sales?page=2               0.050723\n",
       "/api/v1/items                      0.033195\n",
       "/api/v1/items?page=2               0.020818\n",
       "/api/v1/items?page=3               0.015667\n",
       "/api/v1/stores                     0.011590\n",
       "                                     ...   \n",
       "/api/v1                            0.000072\n",
       "/api/v1//api/v1/items/next_page    0.000072\n",
       "/api/v1//api/v1/items              0.000072\n",
       "/api/v1/items?page=0               0.000072\n",
       "/api/V1/HiZach!                    0.000072\n",
       "Name: proportion, Length: 220, dtype: float64"
      ]
     },
     "execution_count": 149,
     "metadata": {},
     "output_type": "execute_result"
    }
   ],
   "source": [
    "#percentage count of request path\n",
    "df.request_path.value_counts(normalize=True)"
   ]
  },
  {
   "cell_type": "code",
   "execution_count": 150,
   "id": "9a873128",
   "metadata": {},
   "outputs": [],
   "source": [
    "#calculate probabity for each request method\n",
    "#create a new df with values of each unique request method\n",
    "#save the percent to a df\n",
    "request_path_df2 = df.request_path.value_counts(normalize=True).reset_index().rename(columns={'index':'request_path','proportion':'path_proba'})\n"
   ]
  },
  {
   "cell_type": "code",
   "execution_count": 151,
   "id": "4f497527",
   "metadata": {
    "scrolled": true
   },
   "outputs": [
    {
     "data": {
      "text/html": [
       "<div>\n",
       "<style scoped>\n",
       "    .dataframe tbody tr th:only-of-type {\n",
       "        vertical-align: middle;\n",
       "    }\n",
       "\n",
       "    .dataframe tbody tr th {\n",
       "        vertical-align: top;\n",
       "    }\n",
       "\n",
       "    .dataframe thead th {\n",
       "        text-align: right;\n",
       "    }\n",
       "</style>\n",
       "<table border=\"1\" class=\"dataframe\">\n",
       "  <thead>\n",
       "    <tr style=\"text-align: right;\">\n",
       "      <th></th>\n",
       "      <th>request_path</th>\n",
       "      <th>path_proba</th>\n",
       "    </tr>\n",
       "  </thead>\n",
       "  <tbody>\n",
       "    <tr>\n",
       "      <th>0</th>\n",
       "      <td>/api/v1/sales?page=2</td>\n",
       "      <td>0.050723</td>\n",
       "    </tr>\n",
       "    <tr>\n",
       "      <th>1</th>\n",
       "      <td>/api/v1/items</td>\n",
       "      <td>0.033195</td>\n",
       "    </tr>\n",
       "    <tr>\n",
       "      <th>2</th>\n",
       "      <td>/api/v1/items?page=2</td>\n",
       "      <td>0.020818</td>\n",
       "    </tr>\n",
       "    <tr>\n",
       "      <th>3</th>\n",
       "      <td>/api/v1/items?page=3</td>\n",
       "      <td>0.015667</td>\n",
       "    </tr>\n",
       "    <tr>\n",
       "      <th>4</th>\n",
       "      <td>/api/v1/stores</td>\n",
       "      <td>0.011590</td>\n",
       "    </tr>\n",
       "  </tbody>\n",
       "</table>\n",
       "</div>"
      ],
      "text/plain": [
       "           request_path  path_proba\n",
       "0  /api/v1/sales?page=2    0.050723\n",
       "1         /api/v1/items    0.033195\n",
       "2  /api/v1/items?page=2    0.020818\n",
       "3  /api/v1/items?page=3    0.015667\n",
       "4        /api/v1/stores    0.011590"
      ]
     },
     "execution_count": 151,
     "metadata": {},
     "output_type": "execute_result"
    }
   ],
   "source": [
    "#take a look at the probability of each method\n",
    "request_path_df2.head()"
   ]
  },
  {
   "cell_type": "code",
   "execution_count": 157,
   "id": "8d3a3c06",
   "metadata": {},
   "outputs": [
    {
     "data": {
      "text/html": [
       "<div>\n",
       "<style scoped>\n",
       "    .dataframe tbody tr th:only-of-type {\n",
       "        vertical-align: middle;\n",
       "    }\n",
       "\n",
       "    .dataframe tbody tr th {\n",
       "        vertical-align: top;\n",
       "    }\n",
       "\n",
       "    .dataframe thead th {\n",
       "        text-align: right;\n",
       "    }\n",
       "</style>\n",
       "<table border=\"1\" class=\"dataframe\">\n",
       "  <thead>\n",
       "    <tr style=\"text-align: right;\">\n",
       "      <th></th>\n",
       "      <th>request_path</th>\n",
       "      <th>path_count</th>\n",
       "      <th>path_proba</th>\n",
       "    </tr>\n",
       "  </thead>\n",
       "  <tbody>\n",
       "    <tr>\n",
       "      <th>0</th>\n",
       "      <td>/api/v1/sales?page=2</td>\n",
       "      <td>709</td>\n",
       "      <td>0.050723</td>\n",
       "    </tr>\n",
       "    <tr>\n",
       "      <th>1</th>\n",
       "      <td>/api/v1/items</td>\n",
       "      <td>464</td>\n",
       "      <td>0.033195</td>\n",
       "    </tr>\n",
       "    <tr>\n",
       "      <th>2</th>\n",
       "      <td>/api/v1/items?page=2</td>\n",
       "      <td>291</td>\n",
       "      <td>0.020818</td>\n",
       "    </tr>\n",
       "    <tr>\n",
       "      <th>3</th>\n",
       "      <td>/api/v1/items?page=3</td>\n",
       "      <td>219</td>\n",
       "      <td>0.015667</td>\n",
       "    </tr>\n",
       "    <tr>\n",
       "      <th>4</th>\n",
       "      <td>/api/v1/stores</td>\n",
       "      <td>162</td>\n",
       "      <td>0.011590</td>\n",
       "    </tr>\n",
       "  </tbody>\n",
       "</table>\n",
       "</div>"
      ],
      "text/plain": [
       "           request_path  path_count  path_proba\n",
       "0  /api/v1/sales?page=2         709    0.050723\n",
       "1         /api/v1/items         464    0.033195\n",
       "2  /api/v1/items?page=2         291    0.020818\n",
       "3  /api/v1/items?page=3         219    0.015667\n",
       "4        /api/v1/stores         162    0.011590"
      ]
     },
     "execution_count": 157,
     "metadata": {},
     "output_type": "execute_result"
    }
   ],
   "source": [
    "# merge the two data frames create above into a path_df2)\n",
    "request_path_df = pd.merge(request_path_df, request_path_df2, how='inner', on='request_path')\n",
    "request_path_df.head()"
   ]
  },
  {
   "cell_type": "code",
   "execution_count": 159,
   "id": "eda1a660",
   "metadata": {},
   "outputs": [
    {
     "data": {
      "text/html": [
       "<div>\n",
       "<style scoped>\n",
       "    .dataframe tbody tr th:only-of-type {\n",
       "        vertical-align: middle;\n",
       "    }\n",
       "\n",
       "    .dataframe tbody tr th {\n",
       "        vertical-align: top;\n",
       "    }\n",
       "\n",
       "    .dataframe thead th {\n",
       "        text-align: right;\n",
       "    }\n",
       "</style>\n",
       "<table border=\"1\" class=\"dataframe\">\n",
       "  <thead>\n",
       "    <tr style=\"text-align: right;\">\n",
       "      <th></th>\n",
       "      <th>request_path</th>\n",
       "      <th>path_count</th>\n",
       "      <th>path_proba</th>\n",
       "    </tr>\n",
       "  </thead>\n",
       "  <tbody>\n",
       "    <tr>\n",
       "      <th>6</th>\n",
       "      <td>/</td>\n",
       "      <td>107</td>\n",
       "      <td>0.007655</td>\n",
       "    </tr>\n",
       "    <tr>\n",
       "      <th>7</th>\n",
       "      <td>/documentation</td>\n",
       "      <td>100</td>\n",
       "      <td>0.007154</td>\n",
       "    </tr>\n",
       "    <tr>\n",
       "      <th>8</th>\n",
       "      <td>/api/v1/sales?page=3</td>\n",
       "      <td>91</td>\n",
       "      <td>0.006510</td>\n",
       "    </tr>\n",
       "    <tr>\n",
       "      <th>9</th>\n",
       "      <td>/api/v1/items?page=1</td>\n",
       "      <td>88</td>\n",
       "      <td>0.006296</td>\n",
       "    </tr>\n",
       "    <tr>\n",
       "      <th>10</th>\n",
       "      <td>/api/v1/sales?page=5</td>\n",
       "      <td>83</td>\n",
       "      <td>0.005938</td>\n",
       "    </tr>\n",
       "    <tr>\n",
       "      <th>...</th>\n",
       "      <td>...</td>\n",
       "      <td>...</td>\n",
       "      <td>...</td>\n",
       "    </tr>\n",
       "    <tr>\n",
       "      <th>215</th>\n",
       "      <td>/api/v1</td>\n",
       "      <td>1</td>\n",
       "      <td>0.000072</td>\n",
       "    </tr>\n",
       "    <tr>\n",
       "      <th>216</th>\n",
       "      <td>/api/v1//api/v1/items/next_page</td>\n",
       "      <td>1</td>\n",
       "      <td>0.000072</td>\n",
       "    </tr>\n",
       "    <tr>\n",
       "      <th>217</th>\n",
       "      <td>/api/v1//api/v1/items</td>\n",
       "      <td>1</td>\n",
       "      <td>0.000072</td>\n",
       "    </tr>\n",
       "    <tr>\n",
       "      <th>218</th>\n",
       "      <td>/api/v1/items?page=0</td>\n",
       "      <td>1</td>\n",
       "      <td>0.000072</td>\n",
       "    </tr>\n",
       "    <tr>\n",
       "      <th>219</th>\n",
       "      <td>/api/V1/HiZach!</td>\n",
       "      <td>1</td>\n",
       "      <td>0.000072</td>\n",
       "    </tr>\n",
       "  </tbody>\n",
       "</table>\n",
       "<p>214 rows × 3 columns</p>\n",
       "</div>"
      ],
      "text/plain": [
       "                        request_path  path_count  path_proba\n",
       "6                                  /         107    0.007655\n",
       "7                     /documentation         100    0.007154\n",
       "8               /api/v1/sales?page=3          91    0.006510\n",
       "9               /api/v1/items?page=1          88    0.006296\n",
       "10              /api/v1/sales?page=5          83    0.005938\n",
       "..                               ...         ...         ...\n",
       "215                          /api/v1           1    0.000072\n",
       "216  /api/v1//api/v1/items/next_page           1    0.000072\n",
       "217            /api/v1//api/v1/items           1    0.000072\n",
       "218             /api/v1/items?page=0           1    0.000072\n",
       "219                  /api/V1/HiZach!           1    0.000072\n",
       "\n",
       "[214 rows x 3 columns]"
      ]
     },
     "execution_count": 159,
     "metadata": {},
     "output_type": "execute_result"
    }
   ],
   "source": [
    "#look at rows where path_proba is less than 1%\n",
    "request_path_df[request_path_df2.path_proba < 0.01]"
   ]
  },
  {
   "cell_type": "code",
   "execution_count": 160,
   "id": "78e0af75",
   "metadata": {},
   "outputs": [
    {
     "data": {
      "text/html": [
       "<div>\n",
       "<style scoped>\n",
       "    .dataframe tbody tr th:only-of-type {\n",
       "        vertical-align: middle;\n",
       "    }\n",
       "\n",
       "    .dataframe tbody tr th {\n",
       "        vertical-align: top;\n",
       "    }\n",
       "\n",
       "    .dataframe thead th {\n",
       "        text-align: right;\n",
       "    }\n",
       "</style>\n",
       "<table border=\"1\" class=\"dataframe\">\n",
       "  <thead>\n",
       "    <tr style=\"text-align: right;\">\n",
       "      <th></th>\n",
       "      <th>request_path</th>\n",
       "      <th>path_count</th>\n",
       "      <th>path_proba</th>\n",
       "    </tr>\n",
       "  </thead>\n",
       "  <tbody>\n",
       "    <tr>\n",
       "      <th>0</th>\n",
       "      <td>/api/v1/sales?page=2</td>\n",
       "      <td>709</td>\n",
       "      <td>0.050723</td>\n",
       "    </tr>\n",
       "    <tr>\n",
       "      <th>1</th>\n",
       "      <td>/api/v1/items</td>\n",
       "      <td>464</td>\n",
       "      <td>0.033195</td>\n",
       "    </tr>\n",
       "    <tr>\n",
       "      <th>2</th>\n",
       "      <td>/api/v1/items?page=2</td>\n",
       "      <td>291</td>\n",
       "      <td>0.020818</td>\n",
       "    </tr>\n",
       "    <tr>\n",
       "      <th>3</th>\n",
       "      <td>/api/v1/items?page=3</td>\n",
       "      <td>219</td>\n",
       "      <td>0.015667</td>\n",
       "    </tr>\n",
       "    <tr>\n",
       "      <th>4</th>\n",
       "      <td>/api/v1/stores</td>\n",
       "      <td>162</td>\n",
       "      <td>0.011590</td>\n",
       "    </tr>\n",
       "    <tr>\n",
       "      <th>5</th>\n",
       "      <td>/api/v1/sales</td>\n",
       "      <td>152</td>\n",
       "      <td>0.010874</td>\n",
       "    </tr>\n",
       "  </tbody>\n",
       "</table>\n",
       "</div>"
      ],
      "text/plain": [
       "           request_path  path_count  path_proba\n",
       "0  /api/v1/sales?page=2         709    0.050723\n",
       "1         /api/v1/items         464    0.033195\n",
       "2  /api/v1/items?page=2         291    0.020818\n",
       "3  /api/v1/items?page=3         219    0.015667\n",
       "4        /api/v1/stores         162    0.011590\n",
       "5         /api/v1/sales         152    0.010874"
      ]
     },
     "execution_count": 160,
     "metadata": {},
     "output_type": "execute_result"
    }
   ],
   "source": [
    "#look at rows where method_proba is more than 1%\n",
    "request_path_df[request_path_df2.path_proba > 0.01]"
   ]
  },
  {
   "cell_type": "markdown",
   "id": "db941923",
   "metadata": {},
   "source": [
    "# request_method"
   ]
  },
  {
   "cell_type": "code",
   "execution_count": 161,
   "id": "8e3355c3",
   "metadata": {},
   "outputs": [
    {
     "data": {
      "text/plain": [
       "request_method\n",
       "GET    13978\n",
       "Name: count, dtype: int64"
      ]
     },
     "execution_count": 161,
     "metadata": {},
     "output_type": "execute_result"
    }
   ],
   "source": [
    "df.request_method.value_counts(dropna=False)\n"
   ]
  },
  {
   "cell_type": "code",
   "execution_count": 162,
   "id": "ed1a9e34",
   "metadata": {},
   "outputs": [
    {
     "data": {
      "text/plain": [
       "request_method\n",
       "GET    1.0\n",
       "Name: proportion, dtype: float64"
      ]
     },
     "execution_count": 162,
     "metadata": {},
     "output_type": "execute_result"
    }
   ],
   "source": [
    "df.request_method.value_counts(normalize=True)\n"
   ]
  },
  {
   "cell_type": "code",
   "execution_count": null,
   "id": "9f72c036",
   "metadata": {},
   "outputs": [],
   "source": [
    "Takeaway:\n",
    "We do not appear to have any anomalies within request_method.\n",
    "100% of the observations are GET method"
   ]
  },
  {
   "cell_type": "markdown",
   "id": "3740688a",
   "metadata": {},
   "source": [
    "# http_version"
   ]
  },
  {
   "cell_type": "code",
   "execution_count": 163,
   "id": "c3012454",
   "metadata": {},
   "outputs": [
    {
     "data": {
      "text/plain": [
       "http_version\n",
       "HTTP/1.1    13978\n",
       "Name: count, dtype: int64"
      ]
     },
     "execution_count": 163,
     "metadata": {},
     "output_type": "execute_result"
    }
   ],
   "source": [
    "df.http_version.value_counts(dropna=False)"
   ]
  },
  {
   "cell_type": "code",
   "execution_count": 164,
   "id": "25679b5c",
   "metadata": {},
   "outputs": [
    {
     "data": {
      "text/plain": [
       "http_version\n",
       "HTTP/1.1    1.0\n",
       "Name: proportion, dtype: float64"
      ]
     },
     "execution_count": 164,
     "metadata": {},
     "output_type": "execute_result"
    }
   ],
   "source": [
    "df.http_version.value_counts(normalize=True)\n"
   ]
  },
  {
   "cell_type": "markdown",
   "id": "da02c204",
   "metadata": {},
   "source": [
    "Takeaway:\n",
    "We do not appear to have any anomalies within http_version.\n",
    "100% of the observations are HTTP/1.1\n"
   ]
  },
  {
   "cell_type": "markdown",
   "id": "47135de3",
   "metadata": {},
   "source": [
    "# status_code"
   ]
  },
  {
   "cell_type": "code",
   "execution_count": 170,
   "id": "52c9d0de",
   "metadata": {},
   "outputs": [
    {
     "data": {
      "text/plain": [
       "status_code\n",
       "200    13960\n",
       "499       16\n",
       "301        2\n",
       "Name: count, dtype: int64"
      ]
     },
     "execution_count": 170,
     "metadata": {},
     "output_type": "execute_result"
    }
   ],
   "source": [
    "df.status_code.value_counts(dropna=False)\n"
   ]
  },
  {
   "cell_type": "code",
   "execution_count": 171,
   "id": "a65beff7",
   "metadata": {},
   "outputs": [
    {
     "data": {
      "text/plain": [
       "status_code\n",
       "200    0.998712\n",
       "499    0.001145\n",
       "301    0.000143\n",
       "Name: proportion, dtype: float64"
      ]
     },
     "execution_count": 171,
     "metadata": {},
     "output_type": "execute_result"
    }
   ],
   "source": [
    "df.status_code.value_counts(normalize=True)\n"
   ]
  },
  {
   "cell_type": "code",
   "execution_count": 172,
   "id": "628ccca5",
   "metadata": {},
   "outputs": [
    {
     "data": {
      "text/html": [
       "<div>\n",
       "<style scoped>\n",
       "    .dataframe tbody tr th:only-of-type {\n",
       "        vertical-align: middle;\n",
       "    }\n",
       "\n",
       "    .dataframe tbody tr th {\n",
       "        vertical-align: top;\n",
       "    }\n",
       "\n",
       "    .dataframe thead th {\n",
       "        text-align: right;\n",
       "    }\n",
       "</style>\n",
       "<table border=\"1\" class=\"dataframe\">\n",
       "  <thead>\n",
       "    <tr style=\"text-align: right;\">\n",
       "      <th></th>\n",
       "      <th>status_code</th>\n",
       "      <th>percent</th>\n",
       "    </tr>\n",
       "  </thead>\n",
       "  <tbody>\n",
       "    <tr>\n",
       "      <th>0</th>\n",
       "      <td>200</td>\n",
       "      <td>0.998712</td>\n",
       "    </tr>\n",
       "    <tr>\n",
       "      <th>1</th>\n",
       "      <td>499</td>\n",
       "      <td>0.001145</td>\n",
       "    </tr>\n",
       "    <tr>\n",
       "      <th>2</th>\n",
       "      <td>301</td>\n",
       "      <td>0.000143</td>\n",
       "    </tr>\n",
       "  </tbody>\n",
       "</table>\n",
       "</div>"
      ],
      "text/plain": [
       "  status_code   percent\n",
       "0         200  0.998712\n",
       "1         499  0.001145\n",
       "2         301  0.000143"
      ]
     },
     "execution_count": 172,
     "metadata": {},
     "output_type": "execute_result"
    }
   ],
   "source": [
    "status_df1 = df.status_code.value_counts(normalize=True).reset_index().rename(columns={'index':'status_code','proportion':'percent'})\n",
    "status_df1.head()"
   ]
  },
  {
   "cell_type": "code",
   "execution_count": 176,
   "id": "102205b2",
   "metadata": {},
   "outputs": [
    {
     "data": {
      "text/html": [
       "<div>\n",
       "<style scoped>\n",
       "    .dataframe tbody tr th:only-of-type {\n",
       "        vertical-align: middle;\n",
       "    }\n",
       "\n",
       "    .dataframe tbody tr th {\n",
       "        vertical-align: top;\n",
       "    }\n",
       "\n",
       "    .dataframe thead th {\n",
       "        text-align: right;\n",
       "    }\n",
       "</style>\n",
       "<table border=\"1\" class=\"dataframe\">\n",
       "  <thead>\n",
       "    <tr style=\"text-align: right;\">\n",
       "      <th></th>\n",
       "      <th>status_code</th>\n",
       "      <th>count</th>\n",
       "    </tr>\n",
       "  </thead>\n",
       "  <tbody>\n",
       "    <tr>\n",
       "      <th>0</th>\n",
       "      <td>200</td>\n",
       "      <td>13960</td>\n",
       "    </tr>\n",
       "    <tr>\n",
       "      <th>1</th>\n",
       "      <td>499</td>\n",
       "      <td>16</td>\n",
       "    </tr>\n",
       "    <tr>\n",
       "      <th>2</th>\n",
       "      <td>301</td>\n",
       "      <td>2</td>\n",
       "    </tr>\n",
       "  </tbody>\n",
       "</table>\n",
       "</div>"
      ],
      "text/plain": [
       "  status_code  count\n",
       "0         200  13960\n",
       "1         499     16\n",
       "2         301      2"
      ]
     },
     "execution_count": 176,
     "metadata": {},
     "output_type": "execute_result"
    }
   ],
   "source": [
    "#status_df2 = df.status_code.value_counts().reset_index().rename(columns={'index':'status_code','status_code':'count'})\n",
    "\n",
    "status_df2 = df.status_code.value_counts().reset_index().rename(columns={'index':'status_code','count':'count'})\n",
    "status_df2.head()"
   ]
  },
  {
   "cell_type": "code",
   "execution_count": 177,
   "id": "295062ce",
   "metadata": {},
   "outputs": [
    {
     "data": {
      "text/html": [
       "<div>\n",
       "<style scoped>\n",
       "    .dataframe tbody tr th:only-of-type {\n",
       "        vertical-align: middle;\n",
       "    }\n",
       "\n",
       "    .dataframe tbody tr th {\n",
       "        vertical-align: top;\n",
       "    }\n",
       "\n",
       "    .dataframe thead th {\n",
       "        text-align: right;\n",
       "    }\n",
       "</style>\n",
       "<table border=\"1\" class=\"dataframe\">\n",
       "  <thead>\n",
       "    <tr style=\"text-align: right;\">\n",
       "      <th></th>\n",
       "      <th>status_code</th>\n",
       "      <th>percent</th>\n",
       "      <th>count</th>\n",
       "    </tr>\n",
       "  </thead>\n",
       "  <tbody>\n",
       "    <tr>\n",
       "      <th>0</th>\n",
       "      <td>200</td>\n",
       "      <td>0.998712</td>\n",
       "      <td>13960</td>\n",
       "    </tr>\n",
       "    <tr>\n",
       "      <th>1</th>\n",
       "      <td>499</td>\n",
       "      <td>0.001145</td>\n",
       "      <td>16</td>\n",
       "    </tr>\n",
       "    <tr>\n",
       "      <th>2</th>\n",
       "      <td>301</td>\n",
       "      <td>0.000143</td>\n",
       "      <td>2</td>\n",
       "    </tr>\n",
       "  </tbody>\n",
       "</table>\n",
       "</div>"
      ],
      "text/plain": [
       "  status_code   percent  count\n",
       "0         200  0.998712  13960\n",
       "1         499  0.001145     16\n",
       "2         301  0.000143      2"
      ]
     },
     "execution_count": 177,
     "metadata": {},
     "output_type": "execute_result"
    }
   ],
   "source": [
    "status_df = pd.merge(status_df1, status_df2, on='status_code')\n",
    "status_df.head()"
   ]
  },
  {
   "cell_type": "code",
   "execution_count": null,
   "id": "734f77db",
   "metadata": {},
   "outputs": [],
   "source": [
    "Takeaway:\n",
    "99% of observations seem to be successful\n",
    "0.1% are 499 errors\n",
    "0.01% are 301 errors"
   ]
  },
  {
   "cell_type": "markdown",
   "id": "600563d0",
   "metadata": {},
   "source": [
    "# size_mb"
   ]
  },
  {
   "cell_type": "code",
   "execution_count": 195,
   "id": "7ead7282",
   "metadata": {},
   "outputs": [
    {
     "data": {
      "text/plain": [
       "Index(['ip', 'timestamp', 'request_method', 'request_path', 'http_version',\n",
       "       'status_code', 'size', 'user_agent', 'size_mb'],\n",
       "      dtype='object')"
      ]
     },
     "execution_count": 195,
     "metadata": {},
     "output_type": "execute_result"
    }
   ],
   "source": [
    "df.columns"
   ]
  },
  {
   "cell_type": "code",
   "execution_count": 196,
   "id": "f075c3fe",
   "metadata": {},
   "outputs": [
    {
     "data": {
      "text/plain": [
       "size_mb\n",
       "0.471896    705\n",
       "0.003396    548\n",
       "0.003489    291\n",
       "0.001266    229\n",
       "0.001704    219\n",
       "           ... \n",
       "0.327981      1\n",
       "0.343606      1\n",
       "0.312356      1\n",
       "0.265481      1\n",
       "1.961066      1\n",
       "Name: count, Length: 191, dtype: int64"
      ]
     },
     "execution_count": 196,
     "metadata": {},
     "output_type": "execute_result"
    }
   ],
   "source": [
    "df['size_mb'].value_counts(dropna=False)"
   ]
  },
  {
   "cell_type": "code",
   "execution_count": 197,
   "id": "4c7df211",
   "metadata": {},
   "outputs": [
    {
     "data": {
      "text/plain": [
       "size_mb\n",
       "0.471896    0.050436\n",
       "0.003396    0.039204\n",
       "0.003489    0.020818\n",
       "0.001266    0.016383\n",
       "0.001704    0.015667\n",
       "              ...   \n",
       "0.327981    0.000072\n",
       "0.343606    0.000072\n",
       "0.312356    0.000072\n",
       "0.265481    0.000072\n",
       "1.961066    0.000072\n",
       "Name: proportion, Length: 191, dtype: float64"
      ]
     },
     "execution_count": 197,
     "metadata": {},
     "output_type": "execute_result"
    }
   ],
   "source": [
    "df['size_mb'].value_counts(normalize=True)\n"
   ]
  },
  {
   "cell_type": "code",
   "execution_count": 199,
   "id": "33c5de74",
   "metadata": {},
   "outputs": [
    {
     "data": {
      "text/plain": [
       "191"
      ]
     },
     "execution_count": 199,
     "metadata": {},
     "output_type": "execute_result"
    }
   ],
   "source": [
    "df['size_mb'].nunique()\n"
   ]
  },
  {
   "cell_type": "code",
   "execution_count": 200,
   "id": "6c497706",
   "metadata": {},
   "outputs": [
    {
     "data": {
      "text/plain": [
       "(0.0, 1.9610662460327148)"
      ]
     },
     "execution_count": 200,
     "metadata": {},
     "output_type": "execute_result"
    }
   ],
   "source": [
    "df['size_mb'].min(), df['size_mb'].max()\n"
   ]
  },
  {
   "cell_type": "code",
   "execution_count": 201,
   "id": "bae80337",
   "metadata": {},
   "outputs": [
    {
     "data": {
      "text/plain": [
       "count    13978.000000\n",
       "mean         0.429155\n",
       "std          0.154010\n",
       "min          0.000000\n",
       "25%          0.477445\n",
       "50%          0.486506\n",
       "75%          0.487605\n",
       "max          1.961066\n",
       "Name: size_mb, dtype: float64"
      ]
     },
     "execution_count": 201,
     "metadata": {},
     "output_type": "execute_result"
    }
   ],
   "source": [
    "df['size_mb'].describe()\n"
   ]
  },
  {
   "cell_type": "code",
   "execution_count": 202,
   "id": "9f3f8ba8",
   "metadata": {},
   "outputs": [
    {
     "data": {
      "image/png": "[encoded data removed]",
      "text/plain": [
       "<Figure size 640x480 with 1 Axes>"
      ]
     },
     "metadata": {},
     "output_type": "display_data"
    }
   ],
   "source": [
    "plt.boxplot('size_mb', data=df)\n",
    "plt.ylabel('mb')\n",
    "plt.show()\n"
   ]
  },
  {
   "cell_type": "code",
   "execution_count": null,
   "id": "3783df42",
   "metadata": {},
   "outputs": [],
   "source": [
    "Takeaway:\n",
    "Sizes ranges from 0 to over 2M\n",
    "This is something we may want to look further!"
   ]
  },
  {
   "cell_type": "markdown",
   "id": "4b77ac1f",
   "metadata": {},
   "source": [
    "# user_agent"
   ]
  },
  {
   "cell_type": "code",
   "execution_count": 203,
   "id": "32ab4fd1",
   "metadata": {},
   "outputs": [
    {
     "data": {
      "text/plain": [
       "user_agent\n",
       "python-requests/2.21.0    12005\n",
       "python-requests/2.20.1     1911\n",
       "Mozilla/5.0                  48\n",
       "Slackbot-LinkExpanding        7\n",
       "Slackbot                      6\n",
       "Python-urllib/3.7             1\n",
       "Name: count, dtype: int64"
      ]
     },
     "execution_count": 203,
     "metadata": {},
     "output_type": "execute_result"
    }
   ],
   "source": [
    "df.user_agent.value_counts(dropna=False)\n"
   ]
  },
  {
   "cell_type": "code",
   "execution_count": 204,
   "id": "dfb7979d",
   "metadata": {},
   "outputs": [
    {
     "data": {
      "text/plain": [
       "user_agent\n",
       "python-requests/2.21.0    0.858850\n",
       "python-requests/2.20.1    0.136715\n",
       "Mozilla/5.0               0.003434\n",
       "Slackbot-LinkExpanding    0.000501\n",
       "Slackbot                  0.000429\n",
       "Python-urllib/3.7         0.000072\n",
       "Name: proportion, dtype: float64"
      ]
     },
     "execution_count": 204,
     "metadata": {},
     "output_type": "execute_result"
    }
   ],
   "source": [
    "df.user_agent.value_counts(normalize=True)\n"
   ]
  },
  {
   "cell_type": "code",
   "execution_count": 205,
   "id": "a20f2c1b",
   "metadata": {},
   "outputs": [
    {
     "data": {
      "text/html": [
       "<div>\n",
       "<style scoped>\n",
       "    .dataframe tbody tr th:only-of-type {\n",
       "        vertical-align: middle;\n",
       "    }\n",
       "\n",
       "    .dataframe tbody tr th {\n",
       "        vertical-align: top;\n",
       "    }\n",
       "\n",
       "    .dataframe thead th {\n",
       "        text-align: right;\n",
       "    }\n",
       "</style>\n",
       "<table border=\"1\" class=\"dataframe\">\n",
       "  <thead>\n",
       "    <tr style=\"text-align: right;\">\n",
       "      <th></th>\n",
       "      <th>ip</th>\n",
       "      <th>timestamp</th>\n",
       "      <th>request_method</th>\n",
       "      <th>request_path</th>\n",
       "      <th>http_version</th>\n",
       "      <th>status_code</th>\n",
       "      <th>size</th>\n",
       "      <th>user_agent</th>\n",
       "      <th>size_mb</th>\n",
       "    </tr>\n",
       "  </thead>\n",
       "  <tbody>\n",
       "    <tr>\n",
       "      <th>173</th>\n",
       "      <td>97.105.19.58</td>\n",
       "      <td>16/Apr/2019 19:38:16</td>\n",
       "      <td>GET</td>\n",
       "      <td>/api/V1/HiZach!</td>\n",
       "      <td>HTTP/1.1</td>\n",
       "      <td>200</td>\n",
       "      <td>162</td>\n",
       "      <td>Mozilla/5.0</td>\n",
       "      <td>0.000154</td>\n",
       "    </tr>\n",
       "    <tr>\n",
       "      <th>174</th>\n",
       "      <td>97.105.19.58</td>\n",
       "      <td>16/Apr/2019 19:38:16</td>\n",
       "      <td>GET</td>\n",
       "      <td>/favicon.ico</td>\n",
       "      <td>HTTP/1.1</td>\n",
       "      <td>200</td>\n",
       "      <td>162</td>\n",
       "      <td>Mozilla/5.0</td>\n",
       "      <td>0.000154</td>\n",
       "    </tr>\n",
       "    <tr>\n",
       "      <th>565</th>\n",
       "      <td>97.105.19.58</td>\n",
       "      <td>16/Apr/2019 19:44:04</td>\n",
       "      <td>GET</td>\n",
       "      <td>/api/v1/stores?page=0</td>\n",
       "      <td>HTTP/1.1</td>\n",
       "      <td>200</td>\n",
       "      <td>1328</td>\n",
       "      <td>Mozilla/5.0</td>\n",
       "      <td>0.001266</td>\n",
       "    </tr>\n",
       "    <tr>\n",
       "      <th>566</th>\n",
       "      <td>97.105.19.58</td>\n",
       "      <td>16/Apr/2019 19:44:04</td>\n",
       "      <td>GET</td>\n",
       "      <td>/favicon.ico</td>\n",
       "      <td>HTTP/1.1</td>\n",
       "      <td>200</td>\n",
       "      <td>162</td>\n",
       "      <td>Mozilla/5.0</td>\n",
       "      <td>0.000154</td>\n",
       "    </tr>\n",
       "    <tr>\n",
       "      <th>582</th>\n",
       "      <td>97.105.19.58</td>\n",
       "      <td>16/Apr/2019 19:44:16</td>\n",
       "      <td>GET</td>\n",
       "      <td>/api/v1/stores?page=1</td>\n",
       "      <td>HTTP/1.1</td>\n",
       "      <td>200</td>\n",
       "      <td>1328</td>\n",
       "      <td>Mozilla/5.0</td>\n",
       "      <td>0.001266</td>\n",
       "    </tr>\n",
       "    <tr>\n",
       "      <th>583</th>\n",
       "      <td>97.105.19.58</td>\n",
       "      <td>16/Apr/2019 19:44:16</td>\n",
       "      <td>GET</td>\n",
       "      <td>/favicon.ico</td>\n",
       "      <td>HTTP/1.1</td>\n",
       "      <td>200</td>\n",
       "      <td>162</td>\n",
       "      <td>Mozilla/5.0</td>\n",
       "      <td>0.000154</td>\n",
       "    </tr>\n",
       "    <tr>\n",
       "      <th>595</th>\n",
       "      <td>97.105.19.58</td>\n",
       "      <td>16/Apr/2019 19:44:24</td>\n",
       "      <td>GET</td>\n",
       "      <td>/api/v1/stores?page=1</td>\n",
       "      <td>HTTP/1.1</td>\n",
       "      <td>200</td>\n",
       "      <td>1328</td>\n",
       "      <td>Mozilla/5.0</td>\n",
       "      <td>0.001266</td>\n",
       "    </tr>\n",
       "    <tr>\n",
       "      <th>596</th>\n",
       "      <td>97.105.19.58</td>\n",
       "      <td>16/Apr/2019 19:44:24</td>\n",
       "      <td>GET</td>\n",
       "      <td>/favicon.ico</td>\n",
       "      <td>HTTP/1.1</td>\n",
       "      <td>200</td>\n",
       "      <td>162</td>\n",
       "      <td>Mozilla/5.0</td>\n",
       "      <td>0.000154</td>\n",
       "    </tr>\n",
       "    <tr>\n",
       "      <th>601</th>\n",
       "      <td>97.105.19.58</td>\n",
       "      <td>16/Apr/2019 19:44:28</td>\n",
       "      <td>GET</td>\n",
       "      <td>/api/v1/stores?page=2</td>\n",
       "      <td>HTTP/1.1</td>\n",
       "      <td>200</td>\n",
       "      <td>1328</td>\n",
       "      <td>Mozilla/5.0</td>\n",
       "      <td>0.001266</td>\n",
       "    </tr>\n",
       "    <tr>\n",
       "      <th>602</th>\n",
       "      <td>97.105.19.58</td>\n",
       "      <td>16/Apr/2019 19:44:28</td>\n",
       "      <td>GET</td>\n",
       "      <td>/favicon.ico</td>\n",
       "      <td>HTTP/1.1</td>\n",
       "      <td>200</td>\n",
       "      <td>162</td>\n",
       "      <td>Mozilla/5.0</td>\n",
       "      <td>0.000154</td>\n",
       "    </tr>\n",
       "    <tr>\n",
       "      <th>617</th>\n",
       "      <td>97.105.19.58</td>\n",
       "      <td>16/Apr/2019 19:44:38</td>\n",
       "      <td>GET</td>\n",
       "      <td>/api/v1/stores?page=999</td>\n",
       "      <td>HTTP/1.1</td>\n",
       "      <td>200</td>\n",
       "      <td>1328</td>\n",
       "      <td>Mozilla/5.0</td>\n",
       "      <td>0.001266</td>\n",
       "    </tr>\n",
       "    <tr>\n",
       "      <th>618</th>\n",
       "      <td>97.105.19.58</td>\n",
       "      <td>16/Apr/2019 19:44:38</td>\n",
       "      <td>GET</td>\n",
       "      <td>/favicon.ico</td>\n",
       "      <td>HTTP/1.1</td>\n",
       "      <td>200</td>\n",
       "      <td>162</td>\n",
       "      <td>Mozilla/5.0</td>\n",
       "      <td>0.000154</td>\n",
       "    </tr>\n",
       "    <tr>\n",
       "      <th>674</th>\n",
       "      <td>97.105.19.58</td>\n",
       "      <td>16/Apr/2019 19:45:20</td>\n",
       "      <td>GET</td>\n",
       "      <td>/api/v1/items?page=0</td>\n",
       "      <td>HTTP/1.1</td>\n",
       "      <td>200</td>\n",
       "      <td>48</td>\n",
       "      <td>Mozilla/5.0</td>\n",
       "      <td>0.000046</td>\n",
       "    </tr>\n",
       "    <tr>\n",
       "      <th>676</th>\n",
       "      <td>97.105.19.58</td>\n",
       "      <td>16/Apr/2019 19:45:20</td>\n",
       "      <td>GET</td>\n",
       "      <td>/favicon.ico</td>\n",
       "      <td>HTTP/1.1</td>\n",
       "      <td>200</td>\n",
       "      <td>162</td>\n",
       "      <td>Mozilla/5.0</td>\n",
       "      <td>0.000154</td>\n",
       "    </tr>\n",
       "    <tr>\n",
       "      <th>1117</th>\n",
       "      <td>97.105.19.58</td>\n",
       "      <td>16/Apr/2019 19:49:41</td>\n",
       "      <td>GET</td>\n",
       "      <td>/api/v1//api/v1/items?page=2</td>\n",
       "      <td>HTTP/1.1</td>\n",
       "      <td>200</td>\n",
       "      <td>162</td>\n",
       "      <td>Mozilla/5.0</td>\n",
       "      <td>0.000154</td>\n",
       "    </tr>\n",
       "    <tr>\n",
       "      <th>1123</th>\n",
       "      <td>97.105.19.58</td>\n",
       "      <td>16/Apr/2019 19:49:43</td>\n",
       "      <td>GET</td>\n",
       "      <td>/favicon.ico</td>\n",
       "      <td>HTTP/1.1</td>\n",
       "      <td>200</td>\n",
       "      <td>162</td>\n",
       "      <td>Mozilla/5.0</td>\n",
       "      <td>0.000154</td>\n",
       "    </tr>\n",
       "    <tr>\n",
       "      <th>1142</th>\n",
       "      <td>97.105.19.58</td>\n",
       "      <td>16/Apr/2019 19:49:51</td>\n",
       "      <td>GET</td>\n",
       "      <td>/api/v1//api/v1/items</td>\n",
       "      <td>HTTP/1.1</td>\n",
       "      <td>200</td>\n",
       "      <td>162</td>\n",
       "      <td>Mozilla/5.0</td>\n",
       "      <td>0.000154</td>\n",
       "    </tr>\n",
       "    <tr>\n",
       "      <th>1146</th>\n",
       "      <td>97.105.19.58</td>\n",
       "      <td>16/Apr/2019 19:49:53</td>\n",
       "      <td>GET</td>\n",
       "      <td>/favicon.ico</td>\n",
       "      <td>HTTP/1.1</td>\n",
       "      <td>200</td>\n",
       "      <td>162</td>\n",
       "      <td>Mozilla/5.0</td>\n",
       "      <td>0.000154</td>\n",
       "    </tr>\n",
       "    <tr>\n",
       "      <th>1158</th>\n",
       "      <td>97.105.19.58</td>\n",
       "      <td>16/Apr/2019 19:49:58</td>\n",
       "      <td>GET</td>\n",
       "      <td>/api/v1//api/v1/items/next_page</td>\n",
       "      <td>HTTP/1.1</td>\n",
       "      <td>200</td>\n",
       "      <td>162</td>\n",
       "      <td>Mozilla/5.0</td>\n",
       "      <td>0.000154</td>\n",
       "    </tr>\n",
       "    <tr>\n",
       "      <th>1161</th>\n",
       "      <td>97.105.19.58</td>\n",
       "      <td>16/Apr/2019 19:49:58</td>\n",
       "      <td>GET</td>\n",
       "      <td>/favicon.ico</td>\n",
       "      <td>HTTP/1.1</td>\n",
       "      <td>200</td>\n",
       "      <td>162</td>\n",
       "      <td>Mozilla/5.0</td>\n",
       "      <td>0.000154</td>\n",
       "    </tr>\n",
       "    <tr>\n",
       "      <th>2219</th>\n",
       "      <td>97.105.19.58</td>\n",
       "      <td>16/Apr/2019 19:59:46</td>\n",
       "      <td>GET</td>\n",
       "      <td>/api/v1/helloclass!</td>\n",
       "      <td>HTTP/1.1</td>\n",
       "      <td>200</td>\n",
       "      <td>162</td>\n",
       "      <td>Mozilla/5.0</td>\n",
       "      <td>0.000154</td>\n",
       "    </tr>\n",
       "    <tr>\n",
       "      <th>2221</th>\n",
       "      <td>97.105.19.58</td>\n",
       "      <td>16/Apr/2019 19:59:47</td>\n",
       "      <td>GET</td>\n",
       "      <td>/favicon.ico</td>\n",
       "      <td>HTTP/1.1</td>\n",
       "      <td>200</td>\n",
       "      <td>162</td>\n",
       "      <td>Mozilla/5.0</td>\n",
       "      <td>0.000154</td>\n",
       "    </tr>\n",
       "    <tr>\n",
       "      <th>2348</th>\n",
       "      <td>97.105.19.58</td>\n",
       "      <td>16/Apr/2019 20:01:02</td>\n",
       "      <td>GET</td>\n",
       "      <td>/api/v1/I_DIDNT_DO_IT!!!!</td>\n",
       "      <td>HTTP/1.1</td>\n",
       "      <td>200</td>\n",
       "      <td>162</td>\n",
       "      <td>Mozilla/5.0</td>\n",
       "      <td>0.000154</td>\n",
       "    </tr>\n",
       "    <tr>\n",
       "      <th>2349</th>\n",
       "      <td>97.105.19.58</td>\n",
       "      <td>16/Apr/2019 20:01:03</td>\n",
       "      <td>GET</td>\n",
       "      <td>/favicon.ico</td>\n",
       "      <td>HTTP/1.1</td>\n",
       "      <td>200</td>\n",
       "      <td>162</td>\n",
       "      <td>Mozilla/5.0</td>\n",
       "      <td>0.000154</td>\n",
       "    </tr>\n",
       "    <tr>\n",
       "      <th>4327</th>\n",
       "      <td>97.105.19.58</td>\n",
       "      <td>16/Apr/2019 20:31:09</td>\n",
       "      <td>GET</td>\n",
       "      <td>/api/v1/sales?page=3</td>\n",
       "      <td>HTTP/1.1</td>\n",
       "      <td>200</td>\n",
       "      <td>499787</td>\n",
       "      <td>Mozilla/5.0</td>\n",
       "      <td>0.476634</td>\n",
       "    </tr>\n",
       "    <tr>\n",
       "      <th>4328</th>\n",
       "      <td>97.105.19.58</td>\n",
       "      <td>16/Apr/2019 20:31:10</td>\n",
       "      <td>GET</td>\n",
       "      <td>/favicon.ico</td>\n",
       "      <td>HTTP/1.1</td>\n",
       "      <td>200</td>\n",
       "      <td>162</td>\n",
       "      <td>Mozilla/5.0</td>\n",
       "      <td>0.000154</td>\n",
       "    </tr>\n",
       "    <tr>\n",
       "      <th>9588</th>\n",
       "      <td>97.105.19.58</td>\n",
       "      <td>16/Apr/2019 21:49:21</td>\n",
       "      <td>GET</td>\n",
       "      <td>/</td>\n",
       "      <td>HTTP/1.1</td>\n",
       "      <td>200</td>\n",
       "      <td>42</td>\n",
       "      <td>Mozilla/5.0</td>\n",
       "      <td>0.000040</td>\n",
       "    </tr>\n",
       "    <tr>\n",
       "      <th>9590</th>\n",
       "      <td>97.105.19.58</td>\n",
       "      <td>16/Apr/2019 21:49:22</td>\n",
       "      <td>GET</td>\n",
       "      <td>/favicon.ico</td>\n",
       "      <td>HTTP/1.1</td>\n",
       "      <td>200</td>\n",
       "      <td>162</td>\n",
       "      <td>Mozilla/5.0</td>\n",
       "      <td>0.000154</td>\n",
       "    </tr>\n",
       "    <tr>\n",
       "      <th>10308</th>\n",
       "      <td>72.181.105.81</td>\n",
       "      <td>16/Apr/2019 22:01:52</td>\n",
       "      <td>GET</td>\n",
       "      <td>/api/v1/items</td>\n",
       "      <td>HTTP/1.1</td>\n",
       "      <td>200</td>\n",
       "      <td>3561</td>\n",
       "      <td>Mozilla/5.0</td>\n",
       "      <td>0.003396</td>\n",
       "    </tr>\n",
       "    <tr>\n",
       "      <th>10309</th>\n",
       "      <td>72.181.105.81</td>\n",
       "      <td>16/Apr/2019 22:01:52</td>\n",
       "      <td>GET</td>\n",
       "      <td>/favicon.ico</td>\n",
       "      <td>HTTP/1.1</td>\n",
       "      <td>200</td>\n",
       "      <td>162</td>\n",
       "      <td>Mozilla/5.0</td>\n",
       "      <td>0.000154</td>\n",
       "    </tr>\n",
       "    <tr>\n",
       "      <th>10310</th>\n",
       "      <td>72.181.105.81</td>\n",
       "      <td>16/Apr/2019 22:01:53</td>\n",
       "      <td>GET</td>\n",
       "      <td>/api/v1/</td>\n",
       "      <td>HTTP/1.1</td>\n",
       "      <td>200</td>\n",
       "      <td>162</td>\n",
       "      <td>Mozilla/5.0</td>\n",
       "      <td>0.000154</td>\n",
       "    </tr>\n",
       "    <tr>\n",
       "      <th>10311</th>\n",
       "      <td>72.181.105.81</td>\n",
       "      <td>16/Apr/2019 22:01:53</td>\n",
       "      <td>GET</td>\n",
       "      <td>/favicon.ico</td>\n",
       "      <td>HTTP/1.1</td>\n",
       "      <td>200</td>\n",
       "      <td>162</td>\n",
       "      <td>Mozilla/5.0</td>\n",
       "      <td>0.000154</td>\n",
       "    </tr>\n",
       "    <tr>\n",
       "      <th>10339</th>\n",
       "      <td>72.181.105.81</td>\n",
       "      <td>16/Apr/2019 22:02:42</td>\n",
       "      <td>GET</td>\n",
       "      <td>/api/v1/</td>\n",
       "      <td>HTTP/1.1</td>\n",
       "      <td>200</td>\n",
       "      <td>162</td>\n",
       "      <td>Mozilla/5.0</td>\n",
       "      <td>0.000154</td>\n",
       "    </tr>\n",
       "    <tr>\n",
       "      <th>10340</th>\n",
       "      <td>72.181.105.81</td>\n",
       "      <td>16/Apr/2019 22:02:42</td>\n",
       "      <td>GET</td>\n",
       "      <td>/favicon.ico</td>\n",
       "      <td>HTTP/1.1</td>\n",
       "      <td>200</td>\n",
       "      <td>162</td>\n",
       "      <td>Mozilla/5.0</td>\n",
       "      <td>0.000154</td>\n",
       "    </tr>\n",
       "    <tr>\n",
       "      <th>11945</th>\n",
       "      <td>72.181.105.81</td>\n",
       "      <td>16/Apr/2019 23:44:34</td>\n",
       "      <td>GET</td>\n",
       "      <td>/</td>\n",
       "      <td>HTTP/1.1</td>\n",
       "      <td>200</td>\n",
       "      <td>42</td>\n",
       "      <td>Mozilla/5.0</td>\n",
       "      <td>0.000040</td>\n",
       "    </tr>\n",
       "    <tr>\n",
       "      <th>11946</th>\n",
       "      <td>72.181.105.81</td>\n",
       "      <td>16/Apr/2019 23:44:35</td>\n",
       "      <td>GET</td>\n",
       "      <td>/favicon.ico</td>\n",
       "      <td>HTTP/1.1</td>\n",
       "      <td>200</td>\n",
       "      <td>162</td>\n",
       "      <td>Mozilla/5.0</td>\n",
       "      <td>0.000154</td>\n",
       "    </tr>\n",
       "    <tr>\n",
       "      <th>11958</th>\n",
       "      <td>72.181.105.81</td>\n",
       "      <td>17/Apr/2019 01:25:07</td>\n",
       "      <td>GET</td>\n",
       "      <td>/</td>\n",
       "      <td>HTTP/1.1</td>\n",
       "      <td>200</td>\n",
       "      <td>42</td>\n",
       "      <td>Mozilla/5.0</td>\n",
       "      <td>0.000040</td>\n",
       "    </tr>\n",
       "    <tr>\n",
       "      <th>11959</th>\n",
       "      <td>70.121.214.34</td>\n",
       "      <td>17/Apr/2019 01:25:07</td>\n",
       "      <td>GET</td>\n",
       "      <td>/</td>\n",
       "      <td>HTTP/1.1</td>\n",
       "      <td>200</td>\n",
       "      <td>42</td>\n",
       "      <td>Mozilla/5.0</td>\n",
       "      <td>0.000040</td>\n",
       "    </tr>\n",
       "    <tr>\n",
       "      <th>11960</th>\n",
       "      <td>70.121.214.34</td>\n",
       "      <td>17/Apr/2019 01:25:07</td>\n",
       "      <td>GET</td>\n",
       "      <td>/favicon.ico</td>\n",
       "      <td>HTTP/1.1</td>\n",
       "      <td>200</td>\n",
       "      <td>162</td>\n",
       "      <td>Mozilla/5.0</td>\n",
       "      <td>0.000154</td>\n",
       "    </tr>\n",
       "    <tr>\n",
       "      <th>11961</th>\n",
       "      <td>72.181.105.81</td>\n",
       "      <td>17/Apr/2019 01:25:21</td>\n",
       "      <td>GET</td>\n",
       "      <td>/documentation</td>\n",
       "      <td>HTTP/1.1</td>\n",
       "      <td>200</td>\n",
       "      <td>348</td>\n",
       "      <td>Mozilla/5.0</td>\n",
       "      <td>0.000332</td>\n",
       "    </tr>\n",
       "    <tr>\n",
       "      <th>11971</th>\n",
       "      <td>72.181.105.81</td>\n",
       "      <td>17/Apr/2019 01:33:06</td>\n",
       "      <td>GET</td>\n",
       "      <td>/api/v1/items?page=2</td>\n",
       "      <td>HTTP/1.1</td>\n",
       "      <td>200</td>\n",
       "      <td>3659</td>\n",
       "      <td>Mozilla/5.0</td>\n",
       "      <td>0.003489</td>\n",
       "    </tr>\n",
       "    <tr>\n",
       "      <th>11972</th>\n",
       "      <td>72.181.105.81</td>\n",
       "      <td>17/Apr/2019 01:33:19</td>\n",
       "      <td>GET</td>\n",
       "      <td>/api/v1/items?page=3</td>\n",
       "      <td>HTTP/1.1</td>\n",
       "      <td>200</td>\n",
       "      <td>1787</td>\n",
       "      <td>Mozilla/5.0</td>\n",
       "      <td>0.001704</td>\n",
       "    </tr>\n",
       "    <tr>\n",
       "      <th>11973</th>\n",
       "      <td>72.181.105.81</td>\n",
       "      <td>17/Apr/2019 01:33:32</td>\n",
       "      <td>GET</td>\n",
       "      <td>/api/v1/items?page=4</td>\n",
       "      <td>HTTP/1.1</td>\n",
       "      <td>200</td>\n",
       "      <td>48</td>\n",
       "      <td>Mozilla/5.0</td>\n",
       "      <td>0.000046</td>\n",
       "    </tr>\n",
       "    <tr>\n",
       "      <th>12262</th>\n",
       "      <td>72.181.105.81</td>\n",
       "      <td>17/Apr/2019 01:56:33</td>\n",
       "      <td>GET</td>\n",
       "      <td>/api/v1/stores</td>\n",
       "      <td>HTTP/1.1</td>\n",
       "      <td>200</td>\n",
       "      <td>1328</td>\n",
       "      <td>Mozilla/5.0</td>\n",
       "      <td>0.001266</td>\n",
       "    </tr>\n",
       "    <tr>\n",
       "      <th>12270</th>\n",
       "      <td>72.181.105.81</td>\n",
       "      <td>17/Apr/2019 01:56:57</td>\n",
       "      <td>GET</td>\n",
       "      <td>/api/v1/sales</td>\n",
       "      <td>HTTP/1.1</td>\n",
       "      <td>200</td>\n",
       "      <td>493905</td>\n",
       "      <td>Mozilla/5.0</td>\n",
       "      <td>0.471025</td>\n",
       "    </tr>\n",
       "    <tr>\n",
       "      <th>12393</th>\n",
       "      <td>72.181.105.81</td>\n",
       "      <td>17/Apr/2019 02:07:44</td>\n",
       "      <td>GET</td>\n",
       "      <td>/api/v1/sales</td>\n",
       "      <td>HTTP/1.1</td>\n",
       "      <td>200</td>\n",
       "      <td>493905</td>\n",
       "      <td>Mozilla/5.0</td>\n",
       "      <td>0.471025</td>\n",
       "    </tr>\n",
       "    <tr>\n",
       "      <th>12577</th>\n",
       "      <td>72.181.113.170</td>\n",
       "      <td>17/Apr/2019 02:18:07</td>\n",
       "      <td>GET</td>\n",
       "      <td>/</td>\n",
       "      <td>HTTP/1.1</td>\n",
       "      <td>200</td>\n",
       "      <td>42</td>\n",
       "      <td>Mozilla/5.0</td>\n",
       "      <td>0.000040</td>\n",
       "    </tr>\n",
       "    <tr>\n",
       "      <th>12578</th>\n",
       "      <td>72.181.113.170</td>\n",
       "      <td>17/Apr/2019 02:18:07</td>\n",
       "      <td>GET</td>\n",
       "      <td>/favicon.ico</td>\n",
       "      <td>HTTP/1.1</td>\n",
       "      <td>200</td>\n",
       "      <td>162</td>\n",
       "      <td>Mozilla/5.0</td>\n",
       "      <td>0.000154</td>\n",
       "    </tr>\n",
       "  </tbody>\n",
       "</table>\n",
       "</div>"
      ],
      "text/plain": [
       "                   ip             timestamp request_method  \\\n",
       "173      97.105.19.58  16/Apr/2019 19:38:16            GET   \n",
       "174      97.105.19.58  16/Apr/2019 19:38:16            GET   \n",
       "565      97.105.19.58  16/Apr/2019 19:44:04            GET   \n",
       "566      97.105.19.58  16/Apr/2019 19:44:04            GET   \n",
       "582      97.105.19.58  16/Apr/2019 19:44:16            GET   \n",
       "583      97.105.19.58  16/Apr/2019 19:44:16            GET   \n",
       "595      97.105.19.58  16/Apr/2019 19:44:24            GET   \n",
       "596      97.105.19.58  16/Apr/2019 19:44:24            GET   \n",
       "601      97.105.19.58  16/Apr/2019 19:44:28            GET   \n",
       "602      97.105.19.58  16/Apr/2019 19:44:28            GET   \n",
       "617      97.105.19.58  16/Apr/2019 19:44:38            GET   \n",
       "618      97.105.19.58  16/Apr/2019 19:44:38            GET   \n",
       "674      97.105.19.58  16/Apr/2019 19:45:20            GET   \n",
       "676      97.105.19.58  16/Apr/2019 19:45:20            GET   \n",
       "1117     97.105.19.58  16/Apr/2019 19:49:41            GET   \n",
       "1123     97.105.19.58  16/Apr/2019 19:49:43            GET   \n",
       "1142     97.105.19.58  16/Apr/2019 19:49:51            GET   \n",
       "1146     97.105.19.58  16/Apr/2019 19:49:53            GET   \n",
       "1158     97.105.19.58  16/Apr/2019 19:49:58            GET   \n",
       "1161     97.105.19.58  16/Apr/2019 19:49:58            GET   \n",
       "2219     97.105.19.58  16/Apr/2019 19:59:46            GET   \n",
       "2221     97.105.19.58  16/Apr/2019 19:59:47            GET   \n",
       "2348     97.105.19.58  16/Apr/2019 20:01:02            GET   \n",
       "2349     97.105.19.58  16/Apr/2019 20:01:03            GET   \n",
       "4327     97.105.19.58  16/Apr/2019 20:31:09            GET   \n",
       "4328     97.105.19.58  16/Apr/2019 20:31:10            GET   \n",
       "9588     97.105.19.58  16/Apr/2019 21:49:21            GET   \n",
       "9590     97.105.19.58  16/Apr/2019 21:49:22            GET   \n",
       "10308   72.181.105.81  16/Apr/2019 22:01:52            GET   \n",
       "10309   72.181.105.81  16/Apr/2019 22:01:52            GET   \n",
       "10310   72.181.105.81  16/Apr/2019 22:01:53            GET   \n",
       "10311   72.181.105.81  16/Apr/2019 22:01:53            GET   \n",
       "10339   72.181.105.81  16/Apr/2019 22:02:42            GET   \n",
       "10340   72.181.105.81  16/Apr/2019 22:02:42            GET   \n",
       "11945   72.181.105.81  16/Apr/2019 23:44:34            GET   \n",
       "11946   72.181.105.81  16/Apr/2019 23:44:35            GET   \n",
       "11958   72.181.105.81  17/Apr/2019 01:25:07            GET   \n",
       "11959   70.121.214.34  17/Apr/2019 01:25:07            GET   \n",
       "11960   70.121.214.34  17/Apr/2019 01:25:07            GET   \n",
       "11961   72.181.105.81  17/Apr/2019 01:25:21            GET   \n",
       "11971   72.181.105.81  17/Apr/2019 01:33:06            GET   \n",
       "11972   72.181.105.81  17/Apr/2019 01:33:19            GET   \n",
       "11973   72.181.105.81  17/Apr/2019 01:33:32            GET   \n",
       "12262   72.181.105.81  17/Apr/2019 01:56:33            GET   \n",
       "12270   72.181.105.81  17/Apr/2019 01:56:57            GET   \n",
       "12393   72.181.105.81  17/Apr/2019 02:07:44            GET   \n",
       "12577  72.181.113.170  17/Apr/2019 02:18:07            GET   \n",
       "12578  72.181.113.170  17/Apr/2019 02:18:07            GET   \n",
       "\n",
       "                          request_path http_version status_code    size  \\\n",
       "173                    /api/V1/HiZach!     HTTP/1.1         200     162   \n",
       "174                       /favicon.ico     HTTP/1.1         200     162   \n",
       "565              /api/v1/stores?page=0     HTTP/1.1         200    1328   \n",
       "566                       /favicon.ico     HTTP/1.1         200     162   \n",
       "582              /api/v1/stores?page=1     HTTP/1.1         200    1328   \n",
       "583                       /favicon.ico     HTTP/1.1         200     162   \n",
       "595              /api/v1/stores?page=1     HTTP/1.1         200    1328   \n",
       "596                       /favicon.ico     HTTP/1.1         200     162   \n",
       "601              /api/v1/stores?page=2     HTTP/1.1         200    1328   \n",
       "602                       /favicon.ico     HTTP/1.1         200     162   \n",
       "617            /api/v1/stores?page=999     HTTP/1.1         200    1328   \n",
       "618                       /favicon.ico     HTTP/1.1         200     162   \n",
       "674               /api/v1/items?page=0     HTTP/1.1         200      48   \n",
       "676                       /favicon.ico     HTTP/1.1         200     162   \n",
       "1117      /api/v1//api/v1/items?page=2     HTTP/1.1         200     162   \n",
       "1123                      /favicon.ico     HTTP/1.1         200     162   \n",
       "1142             /api/v1//api/v1/items     HTTP/1.1         200     162   \n",
       "1146                      /favicon.ico     HTTP/1.1         200     162   \n",
       "1158   /api/v1//api/v1/items/next_page     HTTP/1.1         200     162   \n",
       "1161                      /favicon.ico     HTTP/1.1         200     162   \n",
       "2219               /api/v1/helloclass!     HTTP/1.1         200     162   \n",
       "2221                      /favicon.ico     HTTP/1.1         200     162   \n",
       "2348         /api/v1/I_DIDNT_DO_IT!!!!     HTTP/1.1         200     162   \n",
       "2349                      /favicon.ico     HTTP/1.1         200     162   \n",
       "4327              /api/v1/sales?page=3     HTTP/1.1         200  499787   \n",
       "4328                      /favicon.ico     HTTP/1.1         200     162   \n",
       "9588                                 /     HTTP/1.1         200      42   \n",
       "9590                      /favicon.ico     HTTP/1.1         200     162   \n",
       "10308                    /api/v1/items     HTTP/1.1         200    3561   \n",
       "10309                     /favicon.ico     HTTP/1.1         200     162   \n",
       "10310                         /api/v1/     HTTP/1.1         200     162   \n",
       "10311                     /favicon.ico     HTTP/1.1         200     162   \n",
       "10339                         /api/v1/     HTTP/1.1         200     162   \n",
       "10340                     /favicon.ico     HTTP/1.1         200     162   \n",
       "11945                                /     HTTP/1.1         200      42   \n",
       "11946                     /favicon.ico     HTTP/1.1         200     162   \n",
       "11958                                /     HTTP/1.1         200      42   \n",
       "11959                                /     HTTP/1.1         200      42   \n",
       "11960                     /favicon.ico     HTTP/1.1         200     162   \n",
       "11961                   /documentation     HTTP/1.1         200     348   \n",
       "11971             /api/v1/items?page=2     HTTP/1.1         200    3659   \n",
       "11972             /api/v1/items?page=3     HTTP/1.1         200    1787   \n",
       "11973             /api/v1/items?page=4     HTTP/1.1         200      48   \n",
       "12262                   /api/v1/stores     HTTP/1.1         200    1328   \n",
       "12270                    /api/v1/sales     HTTP/1.1         200  493905   \n",
       "12393                    /api/v1/sales     HTTP/1.1         200  493905   \n",
       "12577                                /     HTTP/1.1         200      42   \n",
       "12578                     /favicon.ico     HTTP/1.1         200     162   \n",
       "\n",
       "        user_agent   size_mb  \n",
       "173    Mozilla/5.0  0.000154  \n",
       "174    Mozilla/5.0  0.000154  \n",
       "565    Mozilla/5.0  0.001266  \n",
       "566    Mozilla/5.0  0.000154  \n",
       "582    Mozilla/5.0  0.001266  \n",
       "583    Mozilla/5.0  0.000154  \n",
       "595    Mozilla/5.0  0.001266  \n",
       "596    Mozilla/5.0  0.000154  \n",
       "601    Mozilla/5.0  0.001266  \n",
       "602    Mozilla/5.0  0.000154  \n",
       "617    Mozilla/5.0  0.001266  \n",
       "618    Mozilla/5.0  0.000154  \n",
       "674    Mozilla/5.0  0.000046  \n",
       "676    Mozilla/5.0  0.000154  \n",
       "1117   Mozilla/5.0  0.000154  \n",
       "1123   Mozilla/5.0  0.000154  \n",
       "1142   Mozilla/5.0  0.000154  \n",
       "1146   Mozilla/5.0  0.000154  \n",
       "1158   Mozilla/5.0  0.000154  \n",
       "1161   Mozilla/5.0  0.000154  \n",
       "2219   Mozilla/5.0  0.000154  \n",
       "2221   Mozilla/5.0  0.000154  \n",
       "2348   Mozilla/5.0  0.000154  \n",
       "2349   Mozilla/5.0  0.000154  \n",
       "4327   Mozilla/5.0  0.476634  \n",
       "4328   Mozilla/5.0  0.000154  \n",
       "9588   Mozilla/5.0  0.000040  \n",
       "9590   Mozilla/5.0  0.000154  \n",
       "10308  Mozilla/5.0  0.003396  \n",
       "10309  Mozilla/5.0  0.000154  \n",
       "10310  Mozilla/5.0  0.000154  \n",
       "10311  Mozilla/5.0  0.000154  \n",
       "10339  Mozilla/5.0  0.000154  \n",
       "10340  Mozilla/5.0  0.000154  \n",
       "11945  Mozilla/5.0  0.000040  \n",
       "11946  Mozilla/5.0  0.000154  \n",
       "11958  Mozilla/5.0  0.000040  \n",
       "11959  Mozilla/5.0  0.000040  \n",
       "11960  Mozilla/5.0  0.000154  \n",
       "11961  Mozilla/5.0  0.000332  \n",
       "11971  Mozilla/5.0  0.003489  \n",
       "11972  Mozilla/5.0  0.001704  \n",
       "11973  Mozilla/5.0  0.000046  \n",
       "12262  Mozilla/5.0  0.001266  \n",
       "12270  Mozilla/5.0  0.471025  \n",
       "12393  Mozilla/5.0  0.471025  \n",
       "12577  Mozilla/5.0  0.000040  \n",
       "12578  Mozilla/5.0  0.000154  "
      ]
     },
     "execution_count": 205,
     "metadata": {},
     "output_type": "execute_result"
    }
   ],
   "source": [
    "#look at the mozilla anomalies\n",
    "mozilla_anom = df.loc[df['user_agent'] == 'Mozilla/5.0']\n",
    "mozilla_anom"
   ]
  },
  {
   "cell_type": "code",
   "execution_count": 206,
   "id": "110bb2bc",
   "metadata": {},
   "outputs": [
    {
     "data": {
      "text/html": [
       "<div>\n",
       "<style scoped>\n",
       "    .dataframe tbody tr th:only-of-type {\n",
       "        vertical-align: middle;\n",
       "    }\n",
       "\n",
       "    .dataframe tbody tr th {\n",
       "        vertical-align: top;\n",
       "    }\n",
       "\n",
       "    .dataframe thead th {\n",
       "        text-align: right;\n",
       "    }\n",
       "</style>\n",
       "<table border=\"1\" class=\"dataframe\">\n",
       "  <thead>\n",
       "    <tr style=\"text-align: right;\">\n",
       "      <th></th>\n",
       "      <th>ip</th>\n",
       "      <th>timestamp</th>\n",
       "      <th>request_method</th>\n",
       "      <th>request_path</th>\n",
       "      <th>http_version</th>\n",
       "      <th>status_code</th>\n",
       "      <th>size</th>\n",
       "      <th>user_agent</th>\n",
       "      <th>size_mb</th>\n",
       "    </tr>\n",
       "  </thead>\n",
       "  <tbody>\n",
       "    <tr>\n",
       "      <th>6693</th>\n",
       "      <td>97.105.19.58</td>\n",
       "      <td>16/Apr/2019 20:57:38</td>\n",
       "      <td>GET</td>\n",
       "      <td>/api/v1/items&amp;page=0</td>\n",
       "      <td>HTTP/1.1</td>\n",
       "      <td>200</td>\n",
       "      <td>162</td>\n",
       "      <td>Python-urllib/3.7</td>\n",
       "      <td>0.000154</td>\n",
       "    </tr>\n",
       "  </tbody>\n",
       "</table>\n",
       "</div>"
      ],
      "text/plain": [
       "                ip             timestamp request_method          request_path  \\\n",
       "6693  97.105.19.58  16/Apr/2019 20:57:38            GET  /api/v1/items&page=0   \n",
       "\n",
       "     http_version status_code  size         user_agent   size_mb  \n",
       "6693     HTTP/1.1         200   162  Python-urllib/3.7  0.000154  "
      ]
     },
     "execution_count": 206,
     "metadata": {},
     "output_type": "execute_result"
    }
   ],
   "source": [
    "python_urllib_anom = df.loc[df['user_agent'] == 'Python-urllib/3.7']\n",
    "python_urllib_anom  "
   ]
  },
  {
   "cell_type": "code",
   "execution_count": null,
   "id": "c21afdc5",
   "metadata": {},
   "outputs": [],
   "source": [
    "Takeaway:\n",
    "Almost 99.6% of the observations come from python 2.2 or newer.\n",
    "Outcomes:\n",
    "\n",
    "The anomaly from python 3.7 was actually successful and came from the most frequent ip"
   ]
  },
  {
   "cell_type": "markdown",
   "id": "6c6b2354",
   "metadata": {},
   "source": [
    "# timestamp"
   ]
  },
  {
   "cell_type": "code",
   "execution_count": 207,
   "id": "34253ee2",
   "metadata": {},
   "outputs": [
    {
     "data": {
      "text/plain": [
       "timestamp\n",
       "16/Apr/2019 19:56:10    9\n",
       "16/Apr/2019 19:49:58    8\n",
       "16/Apr/2019 20:01:30    7\n",
       "16/Apr/2019 20:12:23    6\n",
       "16/Apr/2019 20:02:59    6\n",
       "                       ..\n",
       "16/Apr/2019 21:10:11    1\n",
       "16/Apr/2019 21:10:09    1\n",
       "16/Apr/2019 21:10:07    1\n",
       "16/Apr/2019 21:10:05    1\n",
       "19/Apr/2019 19:42:41    1\n",
       "Name: count, Length: 9957, dtype: int64"
      ]
     },
     "execution_count": 207,
     "metadata": {},
     "output_type": "execute_result"
    }
   ],
   "source": [
    "#take a look at the counts for each day/hour\n",
    "df.timestamp.value_counts()"
   ]
  },
  {
   "cell_type": "code",
   "execution_count": 208,
   "id": "2b06c304",
   "metadata": {},
   "outputs": [
    {
     "data": {
      "text/plain": [
       "timestamp\n",
       "16/Apr/2019 19:56:10    0.000644\n",
       "16/Apr/2019 19:49:58    0.000572\n",
       "16/Apr/2019 20:01:30    0.000501\n",
       "16/Apr/2019 20:12:23    0.000429\n",
       "16/Apr/2019 20:02:59    0.000429\n",
       "                          ...   \n",
       "16/Apr/2019 21:10:11    0.000072\n",
       "16/Apr/2019 21:10:09    0.000072\n",
       "16/Apr/2019 21:10:07    0.000072\n",
       "16/Apr/2019 21:10:05    0.000072\n",
       "19/Apr/2019 19:42:41    0.000072\n",
       "Name: proportion, Length: 9957, dtype: float64"
      ]
     },
     "execution_count": 208,
     "metadata": {},
     "output_type": "execute_result"
    }
   ],
   "source": [
    "#what percentages does that hold\n",
    "df.timestamp.value_counts(normalize=True)"
   ]
  },
  {
   "cell_type": "code",
   "execution_count": 209,
   "id": "d7976c41",
   "metadata": {},
   "outputs": [
    {
     "data": {
      "text/plain": [
       "9957"
      ]
     },
     "execution_count": 209,
     "metadata": {},
     "output_type": "execute_result"
    }
   ],
   "source": [
    "#how many unique timestamps do we have?\n",
    "df.timestamp.nunique()"
   ]
  },
  {
   "cell_type": "code",
   "execution_count": 210,
   "id": "e31eb6e3",
   "metadata": {},
   "outputs": [
    {
     "data": {
      "text/plain": [
       "13978"
      ]
     },
     "execution_count": 210,
     "metadata": {},
     "output_type": "execute_result"
    }
   ],
   "source": [
    "#out of our original dataframe\n",
    "df.timestamp.size"
   ]
  },
  {
   "cell_type": "code",
   "execution_count": null,
   "id": "8bbaaff5",
   "metadata": {},
   "outputs": [],
   "source": [
    "Takeaway:\n",
    "It looks like 71% of these timestamps are different from one another\n",
    "Our best option here might be looking at time series"
   ]
  },
  {
   "cell_type": "code",
   "execution_count": 211,
   "id": "65b483f3",
   "metadata": {},
   "outputs": [],
   "source": [
    "#converted the 'timestamp' column to datetime and set it as the index\n",
    "df.timestamp = pd.to_datetime(df.timestamp)\n",
    "df.set_index(\"timestamp\", inplace=True)\n",
    "\n",
    "# Extract year, month, weekday, and hour into separate columns\n",
    "df['year'] = df.index.year\n",
    "df['month'] = df.index.month_name()\n",
    "df['weekday'] = df.index.day_name()\n",
    "df['hour'] = df.index.hour"
   ]
  },
  {
   "cell_type": "code",
   "execution_count": 212,
   "id": "8177e6d8",
   "metadata": {},
   "outputs": [
    {
     "data": {
      "text/html": [
       "<div>\n",
       "<style scoped>\n",
       "    .dataframe tbody tr th:only-of-type {\n",
       "        vertical-align: middle;\n",
       "    }\n",
       "\n",
       "    .dataframe tbody tr th {\n",
       "        vertical-align: top;\n",
       "    }\n",
       "\n",
       "    .dataframe thead th {\n",
       "        text-align: right;\n",
       "    }\n",
       "</style>\n",
       "<table border=\"1\" class=\"dataframe\">\n",
       "  <thead>\n",
       "    <tr style=\"text-align: right;\">\n",
       "      <th></th>\n",
       "      <th>ip</th>\n",
       "      <th>request_method</th>\n",
       "      <th>request_path</th>\n",
       "      <th>http_version</th>\n",
       "      <th>status_code</th>\n",
       "      <th>size</th>\n",
       "      <th>user_agent</th>\n",
       "      <th>size_mb</th>\n",
       "      <th>year</th>\n",
       "      <th>month</th>\n",
       "      <th>weekday</th>\n",
       "      <th>hour</th>\n",
       "    </tr>\n",
       "    <tr>\n",
       "      <th>timestamp</th>\n",
       "      <th></th>\n",
       "      <th></th>\n",
       "      <th></th>\n",
       "      <th></th>\n",
       "      <th></th>\n",
       "      <th></th>\n",
       "      <th></th>\n",
       "      <th></th>\n",
       "      <th></th>\n",
       "      <th></th>\n",
       "      <th></th>\n",
       "      <th></th>\n",
       "    </tr>\n",
       "  </thead>\n",
       "  <tbody>\n",
       "    <tr>\n",
       "      <th>2019-04-16 19:34:42</th>\n",
       "      <td>97.105.19.58</td>\n",
       "      <td>GET</td>\n",
       "      <td>/api/v1/sales?page=81</td>\n",
       "      <td>HTTP/1.1</td>\n",
       "      <td>200</td>\n",
       "      <td>512495</td>\n",
       "      <td>python-requests/2.21.0</td>\n",
       "      <td>0.488753</td>\n",
       "      <td>2019</td>\n",
       "      <td>April</td>\n",
       "      <td>Tuesday</td>\n",
       "      <td>19</td>\n",
       "    </tr>\n",
       "    <tr>\n",
       "      <th>2019-04-16 19:34:42</th>\n",
       "      <td>97.105.19.58</td>\n",
       "      <td>GET</td>\n",
       "      <td>/api/v1/items</td>\n",
       "      <td>HTTP/1.1</td>\n",
       "      <td>200</td>\n",
       "      <td>3561</td>\n",
       "      <td>python-requests/2.21.0</td>\n",
       "      <td>0.003396</td>\n",
       "      <td>2019</td>\n",
       "      <td>April</td>\n",
       "      <td>Tuesday</td>\n",
       "      <td>19</td>\n",
       "    </tr>\n",
       "    <tr>\n",
       "      <th>2019-04-16 19:34:44</th>\n",
       "      <td>97.105.19.58</td>\n",
       "      <td>GET</td>\n",
       "      <td>/api/v1/sales?page=82</td>\n",
       "      <td>HTTP/1.1</td>\n",
       "      <td>200</td>\n",
       "      <td>510103</td>\n",
       "      <td>python-requests/2.21.0</td>\n",
       "      <td>0.486472</td>\n",
       "      <td>2019</td>\n",
       "      <td>April</td>\n",
       "      <td>Tuesday</td>\n",
       "      <td>19</td>\n",
       "    </tr>\n",
       "    <tr>\n",
       "      <th>2019-04-16 19:34:46</th>\n",
       "      <td>97.105.19.58</td>\n",
       "      <td>GET</td>\n",
       "      <td>/api/v1/sales?page=83</td>\n",
       "      <td>HTTP/1.1</td>\n",
       "      <td>200</td>\n",
       "      <td>510003</td>\n",
       "      <td>python-requests/2.21.0</td>\n",
       "      <td>0.486377</td>\n",
       "      <td>2019</td>\n",
       "      <td>April</td>\n",
       "      <td>Tuesday</td>\n",
       "      <td>19</td>\n",
       "    </tr>\n",
       "    <tr>\n",
       "      <th>2019-04-16 19:34:48</th>\n",
       "      <td>97.105.19.58</td>\n",
       "      <td>GET</td>\n",
       "      <td>/api/v1/sales?page=84</td>\n",
       "      <td>HTTP/1.1</td>\n",
       "      <td>200</td>\n",
       "      <td>511963</td>\n",
       "      <td>python-requests/2.21.0</td>\n",
       "      <td>0.488246</td>\n",
       "      <td>2019</td>\n",
       "      <td>April</td>\n",
       "      <td>Tuesday</td>\n",
       "      <td>19</td>\n",
       "    </tr>\n",
       "  </tbody>\n",
       "</table>\n",
       "</div>"
      ],
      "text/plain": [
       "                               ip request_method           request_path  \\\n",
       "timestamp                                                                 \n",
       "2019-04-16 19:34:42  97.105.19.58            GET  /api/v1/sales?page=81   \n",
       "2019-04-16 19:34:42  97.105.19.58            GET          /api/v1/items   \n",
       "2019-04-16 19:34:44  97.105.19.58            GET  /api/v1/sales?page=82   \n",
       "2019-04-16 19:34:46  97.105.19.58            GET  /api/v1/sales?page=83   \n",
       "2019-04-16 19:34:48  97.105.19.58            GET  /api/v1/sales?page=84   \n",
       "\n",
       "                    http_version status_code    size              user_agent  \\\n",
       "timestamp                                                                      \n",
       "2019-04-16 19:34:42     HTTP/1.1         200  512495  python-requests/2.21.0   \n",
       "2019-04-16 19:34:42     HTTP/1.1         200    3561  python-requests/2.21.0   \n",
       "2019-04-16 19:34:44     HTTP/1.1         200  510103  python-requests/2.21.0   \n",
       "2019-04-16 19:34:46     HTTP/1.1         200  510003  python-requests/2.21.0   \n",
       "2019-04-16 19:34:48     HTTP/1.1         200  511963  python-requests/2.21.0   \n",
       "\n",
       "                      size_mb  year  month  weekday  hour  \n",
       "timestamp                                                  \n",
       "2019-04-16 19:34:42  0.488753  2019  April  Tuesday    19  \n",
       "2019-04-16 19:34:42  0.003396  2019  April  Tuesday    19  \n",
       "2019-04-16 19:34:44  0.486472  2019  April  Tuesday    19  \n",
       "2019-04-16 19:34:46  0.486377  2019  April  Tuesday    19  \n",
       "2019-04-16 19:34:48  0.488246  2019  April  Tuesday    19  "
      ]
     },
     "execution_count": 212,
     "metadata": {},
     "output_type": "execute_result"
    }
   ],
   "source": [
    "df.head()\n"
   ]
  },
  {
   "cell_type": "code",
   "execution_count": 213,
   "id": "6198c868",
   "metadata": {},
   "outputs": [
    {
     "data": {
      "text/plain": [
       "(Timestamp('2019-04-16 19:34:42'), Timestamp('2019-04-21 10:02:41'))"
      ]
     },
     "execution_count": 213,
     "metadata": {},
     "output_type": "execute_result"
    }
   ],
   "source": [
    "#what timeframe are we dealing with?\n",
    "df.index.min(), df.index.max()"
   ]
  },
  {
   "cell_type": "code",
   "execution_count": 214,
   "id": "89caf96c",
   "metadata": {},
   "outputs": [
    {
     "data": {
      "text/plain": [
       "month\n",
       "April    13978\n",
       "Name: count, dtype: int64"
      ]
     },
     "execution_count": 214,
     "metadata": {},
     "output_type": "execute_result"
    }
   ],
   "source": [
    "#look at months\n",
    "df.month.value_counts()"
   ]
  },
  {
   "cell_type": "code",
   "execution_count": null,
   "id": "f0a391b5",
   "metadata": {},
   "outputs": [],
   "source": [
    "Takeaway:\n",
    "All observations appear to be within a week.\n",
    "-- April of 2019"
   ]
  },
  {
   "cell_type": "code",
   "execution_count": 215,
   "id": "4994ba4b",
   "metadata": {},
   "outputs": [
    {
     "data": {
      "text/plain": [
       "hour\n",
       "20    4587\n",
       "21    3430\n",
       "19    2247\n",
       "22    1684\n",
       "3      807\n",
       "1      380\n",
       "2      284\n",
       "5      253\n",
       "4      209\n",
       "12      70\n",
       "6       15\n",
       "0        8\n",
       "23       2\n",
       "10       2\n",
       "Name: count, dtype: int64"
      ]
     },
     "execution_count": 215,
     "metadata": {},
     "output_type": "execute_result"
    }
   ],
   "source": [
    "#what time of day are these hits to the curriculum page?\n",
    "df.hour.value_counts()"
   ]
  },
  {
   "cell_type": "code",
   "execution_count": null,
   "id": "83f0f73e",
   "metadata": {},
   "outputs": [],
   "source": [
    "Takeaway:\n",
    "85% of observations occur between 7pm and 10pm."
   ]
  },
  {
   "cell_type": "code",
   "execution_count": 216,
   "id": "d36453cc",
   "metadata": {},
   "outputs": [
    {
     "data": {
      "text/plain": [
       "weekday\n",
       "Tuesday      11947\n",
       "Wednesday     2028\n",
       "Sunday           1\n",
       "Thursday         1\n",
       "Friday           1\n",
       "Name: count, dtype: int64"
      ]
     },
     "execution_count": 216,
     "metadata": {},
     "output_type": "execute_result"
    }
   ],
   "source": [
    "#what days of the week have the most activity?\n",
    "df.weekday.value_counts()"
   ]
  },
  {
   "cell_type": "code",
   "execution_count": null,
   "id": "b4e02cde",
   "metadata": {},
   "outputs": [],
   "source": [
    "Takeaway:\n",
    "ONLY 0.02% of observations occur on Sunday, Thursday OR Friday."
   ]
  },
  {
   "cell_type": "code",
   "execution_count": 217,
   "id": "52decf9e",
   "metadata": {},
   "outputs": [
    {
     "data": {
      "text/plain": [
       "ip                          97.105.19.58\n",
       "request_method                       GET\n",
       "request_path      /api/v1/sales?page=79/\n",
       "http_version                    HTTP/1.1\n",
       "status_code                          200\n",
       "size                             2056327\n",
       "user_agent        python-requests/2.21.0\n",
       "size_mb                         1.961066\n",
       "year                                2019\n",
       "month                              April\n",
       "weekday                           Friday\n",
       "hour                                  19\n",
       "Name: 2019-04-19 19:42:41, dtype: object"
      ]
     },
     "execution_count": 217,
     "metadata": {},
     "output_type": "execute_result"
    }
   ],
   "source": [
    "#which observation pertains to that friday?\n",
    "friday_observation = df[df['weekday'] == 'Friday'].iloc[0]\n",
    "\n",
    "friday_observation"
   ]
  },
  {
   "cell_type": "code",
   "execution_count": null,
   "id": "11eda59a",
   "metadata": {},
   "outputs": [],
   "source": []
  }
 ],
 "metadata": {
  "kernelspec": {
   "display_name": "Python 3 (ipykernel)",
   "language": "python",
   "name": "python3"
  },
  "language_info": {
   "codemirror_mode": {
    "name": "ipython",
    "version": 3
   },
   "file_extension": ".py",
   "mimetype": "text/x-python",
   "name": "python",
   "nbconvert_exporter": "python",
   "pygments_lexer": "ipython3",
   "version": "3.11.3"
  }
 },
 "nbformat": 4,
 "nbformat_minor": 5
}
